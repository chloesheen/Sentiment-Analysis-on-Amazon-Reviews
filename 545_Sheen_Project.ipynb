{
  "nbformat": 4,
  "nbformat_minor": 0,
  "metadata": {
    "colab": {
      "name": "545_Sheen_Project.ipynb",
      "provenance": [],
      "collapsed_sections": [],
      "toc_visible": true
    },
    "kernelspec": {
      "name": "python3",
      "display_name": "Python 3"
    }
  },
  "cells": [
    {
      "cell_type": "markdown",
      "metadata": {
        "id": "JgUCy0vReo5d",
        "colab_type": "text"
      },
      "source": [
        "# Time Series Analysis and Text Classification Algorithms\n",
        "### Dataset: 100,000 Amazon Product Reviews\n",
        "##### Chloe Sheen\n",
        "\n",
        "In this project, we analyze a dataset of Amazon reviews comprised of text, timestamps, and star ratings. Herein, we start with time analyses to explore trends in star ratings, and follow with a survey of different text classification algorithms. "
      ]
    },
    {
      "cell_type": "code",
      "metadata": {
        "id": "GwnZqJrfeqN0",
        "colab_type": "code",
        "colab": {}
      },
      "source": [
        "# install install install\n",
        "%%capture\n",
        "!pip install -U gensim\n",
        "!pip install urllib2"
      ],
      "execution_count": 0,
      "outputs": []
    },
    {
      "cell_type": "code",
      "metadata": {
        "id": "hVL8rMine-vM",
        "colab_type": "code",
        "outputId": "0c84f254-5b3b-4e1f-d79a-adaf25f91c47",
        "colab": {
          "base_uri": "https://localhost:8080/",
          "height": 35
        }
      },
      "source": [
        "# checking gensim version\n",
        "import gensim\n",
        "gensim.__version__"
      ],
      "execution_count": 0,
      "outputs": [
        {
          "output_type": "execute_result",
          "data": {
            "text/plain": [
              "'3.8.1'"
            ]
          },
          "metadata": {
            "tags": []
          },
          "execution_count": 2
        }
      ]
    },
    {
      "cell_type": "code",
      "metadata": {
        "id": "a8nRxMxyiqtp",
        "colab_type": "code",
        "colab": {}
      },
      "source": [
        "# import more stuff\n",
        "import numpy as np\n",
        "import pandas as pd\n",
        "import matplotlib.pyplot as plt\n",
        "import matplotlib.cm as cm\n",
        "\n",
        "from gensim import corpora\n",
        "from gensim.models import LsiModel, KeyedVectors, Word2Vec\n",
        "from gensim.models.tfidfmodel import TfidfModel\n",
        "from gensim.models.nmf import Nmf\n",
        "\n",
        "import sklearn.model_selection as ms\n",
        "from sklearn.ensemble import RandomForestClassifier\n",
        "from sklearn.cluster import KMeans\n",
        "from sklearn.manifold import TSNE\n",
        "from sklearn.linear_model import LinearRegression\n",
        "from sklearn.naive_bayes import GaussianNB\n",
        "from sklearn.neural_network import MLPClassifier\n",
        "from sklearn.preprocessing import StandardScaler \n",
        "from sklearn.linear_model import LogisticRegression\n",
        "\n",
        "from datetime import *\n",
        "from operator import itemgetter\n"
      ],
      "execution_count": 0,
      "outputs": []
    },
    {
      "cell_type": "code",
      "metadata": {
        "id": "DzcaZB-uis3F",
        "colab_type": "code",
        "colab": {}
      },
      "source": [
        "# getting the datasets \n",
        "%%capture\n",
        "!wget https://cis.upenn.edu/~cis545/data/reviews.dict\n",
        "!wget https://cis.upenn.edu/~cis545/data/train_reviews.mm\n",
        "!wget https://cis.upenn.edu/~cis545/data/train_times.npy"
      ],
      "execution_count": 0,
      "outputs": []
    },
    {
      "cell_type": "code",
      "metadata": {
        "id": "Q5eNg8syiup1",
        "colab_type": "code",
        "colab": {}
      },
      "source": [
        "reviews_dict = corpora.Dictionary.load(\"reviews.dict\")\n",
        "reviews_bow = corpora.MmCorpus('train_reviews.mm')\n",
        "reviews_times  = np.load('train_times.npy')\n",
        "reviews_times.shape = (len(reviews_bow),1)\n",
        "y = np.vstack((np.repeat(1, 4000), np.repeat(2, 4000), np.repeat(3, 4000), np.repeat(4, 4000), np.repeat(5, 4000)))\n",
        "y = np.repeat(y, 5)"
      ],
      "execution_count": 0,
      "outputs": []
    },
    {
      "cell_type": "markdown",
      "metadata": {
        "id": "hWYbc2xtFTKN",
        "colab_type": "text"
      },
      "source": [
        "## Part 0: Time Series Analysis"
      ]
    },
    {
      "cell_type": "markdown",
      "metadata": {
        "id": "nr6XsghD_VAA",
        "colab_type": "text"
      },
      "source": [
        "Prior to extraction of text features, we pick up on previous classwork centered around time analyses in order to discover additional trends in the star rating data."
      ]
    },
    {
      "cell_type": "code",
      "metadata": {
        "id": "Yc3djhdNN9CE",
        "colab_type": "code",
        "colab": {}
      },
      "source": [
        "# convert_times from homework 4\n",
        "def convert_times(reviews_times):\n",
        "  times = []\n",
        "  for i in reviews_times:\n",
        "    times.append(datetime.fromtimestamp(i))\n",
        "  return pd.Series(times)"
      ],
      "execution_count": 0,
      "outputs": []
    },
    {
      "cell_type": "code",
      "metadata": {
        "id": "AbYLKMZuOBZI",
        "colab_type": "code",
        "colab": {}
      },
      "source": [
        "converted_times = convert_times(reviews_times)"
      ],
      "execution_count": 0,
      "outputs": []
    },
    {
      "cell_type": "code",
      "metadata": {
        "id": "I4WlDwNaog7v",
        "colab_type": "code",
        "colab": {}
      },
      "source": [
        "times = pd.DataFrame(converted_times)\n",
        "rating = pd.DataFrame(y)\n",
        "data = pd.concat([times, rating], axis=1)\n",
        "data.columns = ['times', 'rating']\n",
        "data = data.set_index('times').sort_index()"
      ],
      "execution_count": 0,
      "outputs": []
    },
    {
      "cell_type": "code",
      "metadata": {
        "id": "HgDDUPbIqU1r",
        "colab_type": "code",
        "colab": {}
      },
      "source": [
        "years = data.groupby(pd.Grouper(freq=\"Y\"))\n",
        "total_reviews_per_year = years.sum()\n",
        "total_reviews_per_year.reset_index(level=0, inplace=True)"
      ],
      "execution_count": 0,
      "outputs": []
    },
    {
      "cell_type": "code",
      "metadata": {
        "id": "VcvTs2gSx-oF",
        "colab_type": "code",
        "colab": {}
      },
      "source": [
        "# to remove the python FutureWarning\n",
        "from pandas.plotting import register_matplotlib_converters\n",
        "register_matplotlib_converters()"
      ],
      "execution_count": 0,
      "outputs": []
    },
    {
      "cell_type": "code",
      "metadata": {
        "id": "s4fhQlG9Vqjj",
        "colab_type": "code",
        "outputId": "6751d2dd-6426-4393-9d16-17e9ec0a27f4",
        "colab": {
          "base_uri": "https://localhost:8080/",
          "height": 295
        }
      },
      "source": [
        "fig, ax = plt.subplots()\n",
        "ax.plot(total_reviews_per_year['times'], total_reviews_per_year['rating'])\n",
        "ax.set(xlabel='year', ylabel='number of reviews',\n",
        "       title='Number of Amazon Reviews in the Dataset, Between 2001 and 2014')\n",
        "plt.show()"
      ],
      "execution_count": 0,
      "outputs": [
        {
          "output_type": "display_data",
          "data": {
            "image/png": "[encoded data removed]",
            "text/plain": [
              "<Figure size 432x288 with 1 Axes>"
            ]
          },
          "metadata": {
            "tags": []
          }
        }
      ]
    },
    {
      "cell_type": "markdown",
      "metadata": {
        "id": "lZZv1S0AVwAy",
        "colab_type": "text"
      },
      "source": [
        "As expected, the number of total reviews on Amazon has increased exponentially over this time period. To aid us in drawing more statistically accurate conclusions, we continued our analysis of star rating data by using the averages per month and averages per year.\n"
      ]
    },
    {
      "cell_type": "code",
      "metadata": {
        "id": "5Igux7jia4ro",
        "colab_type": "code",
        "colab": {}
      },
      "source": [
        "from pandas.plotting import register_matplotlib_converters\n",
        "register_matplotlib_converters()\n",
        "import matplotlib.pyplot as plt\n",
        "\n",
        "time_star=pd.Series(y,index=converted_times).rename_axis('time')"
      ],
      "execution_count": 0,
      "outputs": []
    },
    {
      "cell_type": "code",
      "metadata": {
        "id": "4hbPf7cRa7MQ",
        "colab_type": "code",
        "outputId": "b85070f4-b612-409e-b19d-625277a22647",
        "colab": {
          "base_uri": "https://localhost:8080/",
          "height": 295
        }
      },
      "source": [
        "plt.title('Mean Star Ratings')\n",
        "plt.plot(time_star.resample('M').apply(np.mean), label='mean of each month')\n",
        "plt.plot(time_star.resample('A').apply(np.mean), label='mean of each year')\n",
        "plt.ylabel('rating')\n",
        "plt.xlabel('year')\n",
        "plt.legend(loc='best')\n",
        "plt.show()"
      ],
      "execution_count": 0,
      "outputs": [
        {
          "output_type": "display_data",
          "data": {
            "image/png": "[encoded data removed]",
            "text/plain": [
              "<Figure size 432x288 with 1 Axes>"
            ]
          },
          "metadata": {
            "tags": []
          }
        }
      ]
    },
    {
      "cell_type": "markdown",
      "metadata": {
        "id": "mHCMmW8UbsQc",
        "colab_type": "text"
      },
      "source": [
        "This is interesting! These findings are more more quantifiable, indicating an increase of a whole star rating within one decade. To follow this finding up, we calculated rolling statistics data to smooth out short-term fluctuations, which will facilitate our exploration of longer-term trends of average star ratings over time."
      ]
    },
    {
      "cell_type": "code",
      "metadata": {
        "id": "DoiKxBXKUtHQ",
        "colab_type": "code",
        "outputId": "48fd8204-904b-4c41-c8ab-fbaed922f3d8",
        "colab": {
          "base_uri": "https://localhost:8080/",
          "height": 242
        }
      },
      "source": [
        "data_series= pd.Series(data.iloc[:, 0])\n",
        "data_series"
      ],
      "execution_count": 0,
      "outputs": [
        {
          "output_type": "execute_result",
          "data": {
            "text/plain": [
              "times\n",
              "2001-07-17    2\n",
              "2001-07-25    2\n",
              "2001-08-24    2\n",
              "2002-01-01    5\n",
              "2002-01-05    1\n",
              "             ..\n",
              "2014-07-22    4\n",
              "2014-07-22    5\n",
              "2014-07-22    5\n",
              "2014-07-23    5\n",
              "2014-07-23    4\n",
              "Name: rating, Length: 100000, dtype: int64"
            ]
          },
          "metadata": {
            "tags": []
          },
          "execution_count": 14
        }
      ]
    },
    {
      "cell_type": "code",
      "metadata": {
        "id": "KvUqFx64omY4",
        "colab_type": "code",
        "outputId": "4c118edc-f4f1-4b18-daa1-6a8dd749065f",
        "colab": {
          "base_uri": "https://localhost:8080/",
          "height": 281
        }
      },
      "source": [
        "rmean = data_series.rolling(window=365).mean()\n",
        "rstd = data_series.rolling(window=365).std()\n",
        "plt.plot(data_series.resample('M').apply(np.mean), label ='original')\n",
        "plt.plot(rmean, color='red', label ='rolling means')\n",
        "plt.plot(rstd, color = 'green', label = 'rolling std')\n",
        "plt.legend(loc='best')\n",
        "plt.title(\"Rolling Mean and Standard Deviation\")\n",
        "plt.show(block=False)"
      ],
      "execution_count": 0,
      "outputs": [
        {
          "output_type": "display_data",
          "data": {
            "image/png": "[encoded data removed]",
            "text/plain": [
              "<Figure size 432x288 with 1 Axes>"
            ]
          },
          "metadata": {
            "tags": []
          }
        }
      ]
    },
    {
      "cell_type": "markdown",
      "metadata": {
        "id": "VB9yJ1Jg0c4m",
        "colab_type": "text"
      },
      "source": [
        "Here, the first element of the moving average is the average of the initial subset of size *n* of the series, and the subset gets modified by shifting forward. \n",
        "\n",
        "Note that the trend of an exponential spike in average ratings in reviews between the year 2005 and 2008 remains the same even when smoothing the plot. Upon further investigation, we can attest that this upward trend can be attributed in part to the influence of review bots writing artificial positive reviews.\n",
        "\n",
        "Further, I will attempt to make the time series more stationary by differencing. "
      ]
    },
    {
      "cell_type": "code",
      "metadata": {
        "id": "E0IKpYQmh6_r",
        "colab_type": "code",
        "outputId": "1224ab01-6e64-42cb-fa96-f6c21f30ff84",
        "colab": {
          "base_uri": "https://localhost:8080/",
          "height": 138
        }
      },
      "source": [
        "time_star.head()"
      ],
      "execution_count": 0,
      "outputs": [
        {
          "output_type": "execute_result",
          "data": {
            "text/plain": [
              "time\n",
              "2012-05-06    1\n",
              "2014-04-07    1\n",
              "2012-07-17    1\n",
              "2014-07-14    1\n",
              "2013-05-16    1\n",
              "dtype: int64"
            ]
          },
          "metadata": {
            "tags": []
          },
          "execution_count": 16
        }
      ]
    },
    {
      "cell_type": "code",
      "metadata": {
        "id": "JfWYZzM3a9gH",
        "colab_type": "code",
        "outputId": "fcc2c8a0-1c31-4bef-adcd-fedcf9167f14",
        "colab": {
          "base_uri": "https://localhost:8080/",
          "height": 281
        }
      },
      "source": [
        "month_star = time_star.resample('M').mean()\n",
        "\n",
        "for year in range(2002,2014):\n",
        "    months = range(1,13)\n",
        "    year_mean = time_star.resample('A').apply(np.mean)[str(year)].values[0]\n",
        "    plt.plot(months, month_star[str(year)]-year_mean, label=str(year))\n",
        "plt.xlabel('Month')\n",
        "plt.ylabel('Scaled Score')\n",
        "plt.xticks(np.arange(min(months), max(months)+1, 1.0))\n",
        "plt.legend(bbox_to_anchor=(1.05, 1), loc=2, borderaxespad=0)\n",
        "plt.show()"
      ],
      "execution_count": 0,
      "outputs": [
        {
          "output_type": "display_data",
          "data": {
            "image/png": "[encoded data removed]",
            "text/plain": [
              "<Figure size 432x288 with 1 Axes>"
            ]
          },
          "metadata": {
            "tags": []
          }
        }
      ]
    },
    {
      "cell_type": "markdown",
      "metadata": {
        "id": "KvATrGw29pOc",
        "colab_type": "text"
      },
      "source": [
        "We have a plot of the average star ratings of each month subtracted by the average star ratings of the corresponding year. I was hoping to see whether the average ratings universally increase towards the holiday season, but it unfortunately there isn't much to be gained from this plot. \n",
        "\n"
      ]
    },
    {
      "cell_type": "markdown",
      "metadata": {
        "id": "FMndrR1wFdZK",
        "colab_type": "text"
      },
      "source": [
        "## **Part 1: Topic Modeling**\n",
        "\n",
        "Topic modeling extracts topics from large volumes of text. The next analysis I wanted to perform on this dataset was whether I could find groupings of the reviews that would reveal the categories that these reviews belong to. "
      ]
    },
    {
      "cell_type": "markdown",
      "metadata": {
        "id": "83cjE2-KDx7f",
        "colab_type": "text"
      },
      "source": [
        "We'll create a LsiModel first to perform topic modeling. This is found in the gensim library. We'll start with 10 topics and see what the output of `print_topics()` looks like. This provides the top 10 most significant topics."
      ]
    },
    {
      "cell_type": "code",
      "metadata": {
        "id": "dgWFdYlrDwVG",
        "colab_type": "code",
        "colab": {}
      },
      "source": [
        "max_cutoff = 10\n",
        "\n",
        "lsi_model = LsiModel(reviews_bow, id2word=reviews_dict, num_topics=max_cutoff)  # train model"
      ],
      "execution_count": 0,
      "outputs": []
    },
    {
      "cell_type": "code",
      "metadata": {
        "id": "T9rmw8PwDiqP",
        "colab_type": "code",
        "outputId": "bed1a391-1761-45d0-a45d-255618a97354",
        "colab": {
          "base_uri": "https://localhost:8080/",
          "height": 383
        }
      },
      "source": [
        "lsi_model.print_topics()"
      ],
      "execution_count": 0,
      "outputs": [
        {
          "output_type": "execute_result",
          "data": {
            "text/plain": [
              "[(0,\n",
              "  '0.333*\"use\" + 0.250*\"one\" + 0.228*\"like\" + 0.208*\"get\" + 0.193*\"just\" + 0.181*\"can\" + 0.165*\"will\" + 0.147*\"work\" + 0.143*\"time\" + 0.128*\"product\"'),\n",
              " (1,\n",
              "  '-0.822*\"magnesium\" + -0.234*\"mg\" + -0.186*\"per\" + -0.149*\"citrat\" + -0.123*\"chelat\" + -0.107*\"capsul\" + -0.103*\"price\" + -0.102*\"cap\" + -0.095*\"food\" + -0.089*\"gel\"'),\n",
              " (2,\n",
              "  '-0.543*\"dog\" + 0.539*\"use\" + -0.290*\"food\" + -0.220*\"cat\" + -0.158*\"like\" + 0.136*\"seat\" + -0.134*\"one\" + 0.125*\"babi\" + -0.123*\"toy\" + -0.120*\"treat\"'),\n",
              " (3,\n",
              "  '-0.457*\"use\" + 0.434*\"seat\" + -0.255*\"dog\" + -0.213*\"cat\" + -0.198*\"product\" + 0.186*\"one\" + 0.180*\"stroller\" + 0.162*\"fit\" + 0.159*\"car\" + 0.137*\"babi\"'),\n",
              " (4,\n",
              "  '0.557*\"dog\" + 0.487*\"seat\" + -0.263*\"cat\" + 0.242*\"use\" + -0.221*\"one\" + 0.189*\"car\" + 0.144*\"babi\" + 0.130*\"stroller\" + 0.128*\"food\" + -0.121*\"size\"'),\n",
              " (5,\n",
              "  '0.704*\"cat\" + 0.354*\"seat\" + 0.258*\"litter\" + -0.213*\"dog\" + 0.177*\"box\" + -0.159*\"size\" + 0.150*\"food\" + 0.130*\"car\" + -0.103*\"shoe\" + -0.095*\"wear\"'),\n",
              " (6,\n",
              "  '0.428*\"pump\" + 0.382*\"bottl\" + 0.277*\"babi\" + -0.251*\"use\" + -0.177*\"size\" + -0.169*\"dog\" + -0.167*\"litter\" + 0.158*\"take\" + -0.153*\"knife\" + 0.148*\"food\"'),\n",
              " (7,\n",
              "  '0.363*\"one\" + -0.291*\"bottl\" + -0.270*\"bag\" + -0.264*\"size\" + -0.211*\"fit\" + -0.202*\"shoe\" + -0.201*\"diaper\" + -0.175*\"food\" + 0.172*\"monitor\" + -0.145*\"like\"'),\n",
              " (8,\n",
              "  '0.537*\"babi\" + -0.481*\"pump\" + 0.239*\"monitor\" + -0.192*\"seat\" + -0.180*\"bottl\" + -0.164*\"one\" + -0.157*\"bag\" + 0.152*\"product\" + -0.136*\"dog\" + -0.108*\"knife\"'),\n",
              " (9,\n",
              "  '0.323*\"one\" + 0.298*\"bag\" + -0.252*\"seat\" + -0.222*\"take\" + -0.217*\"shoe\" + 0.209*\"diaper\" + -0.185*\"product\" + 0.175*\"babi\" + -0.172*\"shave\" + 0.152*\"dog\"')]"
            ]
          },
          "metadata": {
            "tags": []
          },
          "execution_count": 19
        }
      ]
    },
    {
      "cell_type": "markdown",
      "metadata": {
        "id": "RZKzvDptcloI",
        "colab_type": "text"
      },
      "source": [
        "We can deduce topics from this:\n",
        "* Topic 0: product that works\n",
        "* Topic 1: magnesium capsule\n",
        "* Topic 3: dog/cat/baby stroller\n",
        "* Topic 4: dog/cat/baby stroller\n",
        "* Topic 5: dog/cat litter\n",
        "* Topic 6: baby bottles\n",
        "* Topic 7: diaper/bottle bags\n",
        "* Topic 8: baby/dog monitor\n",
        "* Topic 9: diaper bag"
      ]
    },
    {
      "cell_type": "markdown",
      "metadata": {
        "id": "tul5D94tZa0Z",
        "colab_type": "text"
      },
      "source": [
        "The natural question is then: what *is* the best number of topics to choose so that the topics do not overlap? We can use gensim's CoherenceModel to calculate a coherence score, which calculates whether topics overlap with each other. \n",
        "\n",
        "Below, we calculate the coherence values to determine how many topics would be most suitable for our dataset. "
      ]
    },
    {
      "cell_type": "code",
      "metadata": {
        "id": "xeIJDkqYLBC4",
        "colab_type": "code",
        "colab": {}
      },
      "source": [
        "from gensim.models.coherencemodel import CoherenceModel "
      ],
      "execution_count": 0,
      "outputs": []
    },
    {
      "cell_type": "code",
      "metadata": {
        "id": "EyC0AE-jVeF5",
        "colab_type": "code",
        "colab": {}
      },
      "source": [
        "def create_lsa(doc, dict, num_topics):\n",
        "  return LsiModel(reviews_bow, id2word=reviews_dict, num_topics=num_topics) "
      ],
      "execution_count": 0,
      "outputs": []
    },
    {
      "cell_type": "code",
      "metadata": {
        "id": "ovZfpKzmVnUp",
        "colab_type": "code",
        "colab": {}
      },
      "source": [
        "def run_lsa(doc, num_topics=10):\n",
        "  dictionary = reviews_dict\n",
        "  lsa = create_lsa(doc, dictionary, num_topics)\n",
        "  return doc, dictionary, lsa"
      ],
      "execution_count": 0,
      "outputs": []
    },
    {
      "cell_type": "code",
      "metadata": {
        "id": "6kAX3SsVKJNt",
        "colab_type": "code",
        "colab": {}
      },
      "source": [
        "def coherence_score(doc, dict, model):  \n",
        "  coherence_model = CoherenceModel(model=lsi_model, corpus=reviews_bow, dictionary=reviews_dict, coherence='u_mass')\n",
        "  return coherence_model.get_coherence()"
      ],
      "execution_count": 0,
      "outputs": []
    },
    {
      "cell_type": "code",
      "metadata": {
        "id": "qUsUXl64WnzX",
        "colab_type": "code",
        "outputId": "72843bd6-12b7-46fa-95fa-cae80d4940fc",
        "colab": {
          "base_uri": "https://localhost:8080/",
          "height": 35
        }
      },
      "source": [
        "np.seterr(divide='ignore', invalid='ignore')"
      ],
      "execution_count": 0,
      "outputs": [
        {
          "output_type": "execute_result",
          "data": {
            "text/plain": [
              "{'divide': 'warn', 'invalid': 'warn', 'over': 'warn', 'under': 'ignore'}"
            ]
          },
          "metadata": {
            "tags": []
          },
          "execution_count": 24
        }
      ]
    },
    {
      "cell_type": "code",
      "metadata": {
        "id": "h_2h2bLGLQkA",
        "colab_type": "code",
        "colab": {}
      },
      "source": [
        "def coherence_values(low, high):\n",
        "  res = []\n",
        "  for n_topics in range(low, high):\n",
        "    doc, dictionary, model = run_lsa(reviews_bow, num_topics=n_topics)  # train model\n",
        "    coherence = coherence_score(doc, dictionary, model)\n",
        "    res.append(coherence)\n",
        "  return res\n",
        "l = max(coherence_values(1, 20))"
      ],
      "execution_count": 0,
      "outputs": []
    },
    {
      "cell_type": "markdown",
      "metadata": {
        "id": "KB2zIaBlEBpz",
        "colab_type": "text"
      },
      "source": [
        "So this is nice, but using an LSI model can lead to overfitting on the training data: [read stackexchange discussion](https://stats.stackexchange.com/questions/106121/does-it-make-sense-to-combine-pca-and-lda). The LDA (Latent Dirichlet Allocation) model is more often used for topic modeling which is helpful when the frequencies within classes are not equal. LDA uses randomness in both training and inference steps.\n",
        "\n",
        "Let's see if there are differences in the topics generated."
      ]
    },
    {
      "cell_type": "code",
      "metadata": {
        "id": "gNB9ovjhFqBX",
        "colab_type": "code",
        "colab": {}
      },
      "source": [
        "from gensim.models import LdaModel"
      ],
      "execution_count": 0,
      "outputs": []
    },
    {
      "cell_type": "code",
      "metadata": {
        "id": "DUfI1yyUD-e9",
        "colab_type": "code",
        "colab": {}
      },
      "source": [
        "lda_model = LdaModel(reviews_bow, id2word=reviews_dict, num_topics=20, dtype=np.float64)"
      ],
      "execution_count": 0,
      "outputs": []
    },
    {
      "cell_type": "code",
      "metadata": {
        "id": "bXp6JBriEa0M",
        "colab_type": "code",
        "outputId": "6b921561-ca81-45db-a351-adc3eb93b897",
        "colab": {
          "base_uri": "https://localhost:8080/",
          "height": 728
        }
      },
      "source": [
        "lda_model.print_topics()"
      ],
      "execution_count": 0,
      "outputs": [
        {
          "output_type": "execute_result",
          "data": {
            "text/plain": [
              "[(0,\n",
              "  '0.040*\"use\" + 0.028*\"clean\" + 0.026*\"water\" + 0.025*\"bottl\" + 0.021*\"brush\" + 0.012*\"get\" + 0.010*\"drink\" + 0.010*\"work\" + 0.008*\"can\" + 0.007*\"just\"'),\n",
              " (1,\n",
              "  '0.032*\"pill\" + 0.021*\"take\" + 0.018*\"day\" + 0.016*\"gel\" + 0.014*\"cold\" + 0.013*\"tablet\" + 0.013*\"use\" + 0.013*\"mg\" + 0.012*\"effect\" + 0.009*\"dose\"'),\n",
              " (2,\n",
              "  '0.079*\"razor\" + 0.072*\"size\" + 0.034*\"small\" + 0.031*\"fit\" + 0.023*\"larg\" + 0.022*\"order\" + 0.018*\"wife\" + 0.015*\"smaller\" + 0.014*\"like\" + 0.013*\"big\"'),\n",
              " (3,\n",
              "  '0.027*\"supplement\" + 0.023*\"vitamin\" + 0.022*\"oil\" + 0.017*\"protein\" + 0.016*\"ingredi\" + 0.014*\"food\" + 0.014*\"contain\" + 0.009*\"diet\" + 0.009*\"per\" + 0.009*\"fat\"'),\n",
              " (4,\n",
              "  '0.023*\"use\" + 0.011*\"can\" + 0.011*\"sleep\" + 0.009*\"devic\" + 0.007*\"get\" + 0.007*\"time\" + 0.006*\"work\" + 0.006*\"one\" + 0.006*\"also\" + 0.005*\"see\"'),\n",
              " (5,\n",
              "  '0.078*\"shave\" + 0.022*\"like\" + 0.014*\"just\" + 0.010*\"look\" + 0.009*\"get\" + 0.009*\"heart\" + 0.009*\"burn\" + 0.008*\"go\" + 0.007*\"tool\" + 0.007*\"someth\"'),\n",
              " (6,\n",
              "  '0.043*\"teeth\" + 0.039*\"knife\" + 0.038*\"magnesium\" + 0.031*\"toothbrush\" + 0.022*\"workout\" + 0.017*\"gum\" + 0.015*\"sight\" + 0.015*\"sharp\" + 0.012*\"joint\" + 0.011*\"handl\"'),\n",
              " (7,\n",
              "  '0.031*\"work\" + 0.023*\"use\" + 0.021*\"one\" + 0.018*\"tri\" + 0.016*\"time\" + 0.016*\"get\" + 0.015*\"product\" + 0.015*\"take\" + 0.015*\"just\" + 0.014*\"day\"'),\n",
              " (8,\n",
              "  '0.041*\"love\" + 0.026*\"great\" + 0.021*\"like\" + 0.021*\"ball\" + 0.018*\"one\" + 0.015*\"littl\" + 0.014*\"kid\" + 0.013*\"realli\" + 0.011*\"just\" + 0.011*\"toy\"'),\n",
              " (9,\n",
              "  '0.056*\"tast\" + 0.034*\"like\" + 0.024*\"flavor\" + 0.019*\"bar\" + 0.018*\"eat\" + 0.014*\"weight\" + 0.013*\"good\" + 0.013*\"tri\" + 0.013*\"energi\" + 0.012*\"take\"'),\n",
              " (10,\n",
              "  '0.029*\"bike\" + 0.017*\"towel\" + 0.017*\"car\" + 0.016*\"seat\" + 0.013*\"ride\" + 0.012*\"head\" + 0.011*\"lotion\" + 0.010*\"back\" + 0.010*\"holster\" + 0.009*\"strap\"'),\n",
              " (11,\n",
              "  '0.032*\"use\" + 0.031*\"blade\" + 0.027*\"hair\" + 0.016*\"shaver\" + 0.015*\"like\" + 0.011*\"get\" + 0.011*\"stain\" + 0.011*\"trimmer\" + 0.011*\"just\" + 0.010*\"cut\"'),\n",
              " (12,\n",
              "  '0.049*\"smell\" + 0.034*\"scent\" + 0.017*\"box\" + 0.015*\"use\" + 0.015*\"like\" + 0.013*\"paper\" + 0.012*\"strong\" + 0.012*\"shoe\" + 0.009*\"clean\" + 0.009*\"odor\"'),\n",
              " (13,\n",
              "  '0.026*\"batteri\" + 0.020*\"light\" + 0.013*\"charg\" + 0.013*\"one\" + 0.011*\"amazon\" + 0.010*\"use\" + 0.010*\"time\" + 0.009*\"unit\" + 0.008*\"work\" + 0.008*\"replac\"'),\n",
              " (14,\n",
              "  '0.051*\"capsul\" + 0.036*\"deodor\" + 0.024*\"exercis\" + 0.013*\"shoot\" + 0.013*\"rifl\" + 0.012*\"round\" + 0.010*\"use\" + 0.009*\"sensat\" + 0.008*\"mag\" + 0.008*\"tree\"'),\n",
              " (15,\n",
              "  '0.034*\"price\" + 0.029*\"good\" + 0.026*\"use\" + 0.019*\"great\" + 0.019*\"pad\" + 0.016*\"well\" + 0.014*\"like\" + 0.014*\"qualiti\" + 0.013*\"better\" + 0.012*\"much\"'),\n",
              " (16,\n",
              "  '0.015*\"like\" + 0.013*\"wear\" + 0.013*\"comfort\" + 0.010*\"well\" + 0.010*\"feel\" + 0.010*\"get\" + 0.010*\"use\" + 0.010*\"fit\" + 0.009*\"hand\" + 0.009*\"just\"'),\n",
              " (17,\n",
              "  '0.071*\"product\" + 0.018*\"skin\" + 0.010*\"effect\" + 0.010*\"made\" + 0.009*\"recommend\" + 0.009*\"blood\" + 0.008*\"scale\" + 0.007*\"result\" + 0.007*\"help\" + 0.007*\"cream\"'),\n",
              " (18,\n",
              "  '0.011*\"use\" + 0.011*\"one\" + 0.009*\"side\" + 0.009*\"can\" + 0.008*\"mount\" + 0.008*\"back\" + 0.007*\"just\" + 0.007*\"fit\" + 0.007*\"will\" + 0.007*\"like\"'),\n",
              " (19,\n",
              "  '0.044*\"bag\" + 0.024*\"pack\" + 0.024*\"use\" + 0.018*\"one\" + 0.015*\"can\" + 0.014*\"carri\" + 0.012*\"scope\" + 0.010*\"load\" + 0.008*\"need\" + 0.008*\"case\"')]"
            ]
          },
          "metadata": {
            "tags": []
          },
          "execution_count": 28
        }
      ]
    },
    {
      "cell_type": "markdown",
      "metadata": {
        "id": "TCgZ5iQ0C8NF",
        "colab_type": "text"
      },
      "source": [
        "It looks like the topics are different, but now the first word in each of the lists are more descriptive than when we used LSA -- pill, razor, bike, battery, bag, and so on. Let's calculate the perplexity (which captures how surprised a model is of new data it has not seen before, and is measured as the normalized log-likelihood of a held-out test set) and the coherence score (which scores a single topic by measuring the degree of semantic similarity between high scoring words in the topic) of this model to measure how good this model is. The lower this perplexity, the better."
      ]
    },
    {
      "cell_type": "code",
      "metadata": {
        "id": "JdKTomV5G3Gg",
        "colab_type": "code",
        "outputId": "222935cc-1604-4704-e93c-0bb9b75ed47f",
        "colab": {
          "base_uri": "https://localhost:8080/",
          "height": 52
        }
      },
      "source": [
        "print('\\nPerplexity: ', lda_model.log_perplexity(reviews_bow))  \n"
      ],
      "execution_count": 0,
      "outputs": [
        {
          "output_type": "stream",
          "text": [
            "\n",
            "Perplexity:  -7.677211396484756\n"
          ],
          "name": "stdout"
        }
      ]
    },
    {
      "cell_type": "markdown",
      "metadata": {
        "id": "WRhLI4LTFE2O",
        "colab_type": "text"
      },
      "source": [
        "This negative perplexity is due to infinitesimal probabilities being converted to the log scale automatically by gensim. This doesn't tell us much -- let's calculate the coherence score. As the value of UMass coherence approaches to 0, the topic coherence gets better."
      ]
    },
    {
      "cell_type": "code",
      "metadata": {
        "id": "IflPKT6s6DTg",
        "colab_type": "code",
        "outputId": "51ecf53e-b48a-4071-88d5-c5e97ebbe9f9",
        "colab": {
          "base_uri": "https://localhost:8080/",
          "height": 52
        }
      },
      "source": [
        "# Compute Coherence Score\n",
        "coherence_model_lda = CoherenceModel(model=lda_model, corpus=reviews_bow, dictionary=reviews_dict, coherence='u_mass')\n",
        "coherence_lda = coherence_model_lda.get_coherence()\n",
        "print('\\nCoherence Score: ', coherence_lda)"
      ],
      "execution_count": 0,
      "outputs": [
        {
          "output_type": "stream",
          "text": [
            "\n",
            "Coherence Score:  -2.8025524924038727\n"
          ],
          "name": "stdout"
        }
      ]
    },
    {
      "cell_type": "markdown",
      "metadata": {
        "id": "gIrblE-DG1zi",
        "colab_type": "text"
      },
      "source": [
        "## Part 2: Text Classification Algorithms\n",
        "\n",
        "Now we're going to finally carry on from the goal of Homework 4 to use the textual and temporal data in our dataset to predict the star ratings of reviews.\n",
        "\n",
        "The first part of text classification is text and document feature extraction. The text cleaning and pre-processing has already been done for us, so we dive into word embeddings and weighting words. \n"
      ]
    },
    {
      "cell_type": "markdown",
      "metadata": {
        "id": "y0KUYF6sLLqg",
        "colab_type": "text"
      },
      "source": [
        "#### **2.1 Feature Extraction & Word Embedding**\n",
        "\n",
        "In document feature extraction, we want to focus on word embedding procedures to translate tokens into valid input for different machine learning algorithms.  Note, each review is represented as a vector containing the frequency of the words in that review. \n",
        "\n"
      ]
    },
    {
      "cell_type": "markdown",
      "metadata": {
        "id": "wrVgGDB0HPg_",
        "colab_type": "text"
      },
      "source": [
        "Out of the many feature extraction procedures including Word2Vec, GloVe, and FastText, we will use the TF-IDF weighting scheme. This will essentially help weigh down words that are not important and extract the most descriptive terms in a document. In other words, the TF-IDF scheme is used here to determine how important each word is to a review in our reviews bag of words model. TF-IDF has advantages in that it is easy to compute and common words such as \"am\", \"of\", etc. do not impact the results from the IDF part of the calculation. \n",
        "\n",
        "With that being said, there are also limitations in that this model does not capture the meaning or the position in the reviews. "
      ]
    },
    {
      "cell_type": "code",
      "metadata": {
        "id": "6h1rOQ4AGWAm",
        "colab_type": "code",
        "colab": {}
      },
      "source": [
        "def make_tfidf(reviews_bow):\n",
        "    # first initialize and fit a TF-IDF model to reviews_bow, set normalize=True\n",
        "    reviews_model = TfidfModel(reviews_bow, normalize = True)  # fit model\n",
        "    # apply TF-IDF model to reviews_bow to transform it \n",
        "    return reviews_model[reviews_bow]"
      ],
      "execution_count": 0,
      "outputs": []
    },
    {
      "cell_type": "code",
      "metadata": {
        "id": "BpIvTgaOGw2O",
        "colab_type": "code",
        "colab": {}
      },
      "source": [
        "reviews_tfidf = make_tfidf(reviews_bow)"
      ],
      "execution_count": 0,
      "outputs": []
    },
    {
      "cell_type": "markdown",
      "metadata": {
        "id": "yEjUBi98GNGG",
        "colab_type": "text"
      },
      "source": [
        "Another method of feature extraction is Word2Vec, which generates vector representations of words based on their linguistic context. It has advantages over TF-IDF in that it captures the position of the words in the text and also captures the meanings in the words. \n",
        "\n",
        "Below is a brief look at setting up the \n",
        "`reviews_bow` so that it is in a format that can be used to initialize a Word2Vec model. \n",
        "\n"
      ]
    },
    {
      "cell_type": "code",
      "metadata": {
        "id": "CcYQZQA7_Onp",
        "colab_type": "code",
        "colab": {}
      },
      "source": [
        "from gensim.models.word2vec import Word2Vec\n",
        "from gensim.corpora import Dictionary"
      ],
      "execution_count": 0,
      "outputs": []
    },
    {
      "cell_type": "code",
      "metadata": {
        "id": "djHGLzvKZhmg",
        "colab_type": "code",
        "colab": {}
      },
      "source": [
        "def lookup_docs(corpus, indices):\n",
        "    docs = []\n",
        "    for i, doc in enumerate(corpus):\n",
        "      for idx in indices:\n",
        "        if i == idx:\n",
        "          docs.append(doc)\n",
        "    return docs\n",
        "\n",
        "indices = [0,18]\n",
        "docs = lookup_docs(reviews_bow, indices)"
      ],
      "execution_count": 0,
      "outputs": []
    },
    {
      "cell_type": "code",
      "metadata": {
        "id": "vAPtgeULXufN",
        "colab_type": "code",
        "colab": {}
      },
      "source": [
        "def translate_review(review, reviews_dict):\n",
        "    string = \"\"\n",
        "    for word in review: \n",
        "      string += (reviews_dict[word[0]] + \" \") * int(word[1])\n",
        "    return string"
      ],
      "execution_count": 0,
      "outputs": []
    },
    {
      "cell_type": "code",
      "metadata": {
        "id": "MLGRgrWxn6vb",
        "colab_type": "code",
        "colab": {}
      },
      "source": [
        "# new input format for word2vec\n",
        "def vec2sent(bow, dict):\n",
        "  l = [[]] * len(bow)\n",
        "  for i, sent in enumerate(reviews_bow):\n",
        "    for word in sent:\n",
        "      l[i].append(reviews_dict[word[0]])\n",
        "  return l"
      ],
      "execution_count": 0,
      "outputs": []
    },
    {
      "cell_type": "code",
      "metadata": {
        "id": "QEkDJG6dFo1w",
        "colab_type": "code",
        "colab": {}
      },
      "source": [
        "def make_word2vec(reviews_bow):\n",
        "   reviews_model = Word2Vec(vec2sent(reviews_bow, reviews_dict),size=100, window=5, min_count=1, workers=4)  # fit model\n",
        "   return reviews_model[reviews_bow]"
      ],
      "execution_count": 0,
      "outputs": []
    },
    {
      "cell_type": "markdown",
      "metadata": {
        "id": "Tj0MC5d4DNyw",
        "colab_type": "text"
      },
      "source": [
        "After much discussion with the TAs, I was advised that the previous approach is often much faster and as effective as what Word2Vec would provide, especially given the size of the corpus. Running `make_word2vec` on `reviews_bow` crashes this notebook so I would not advise one to try using the Word2Vec model for the rest of the notebook."
      ]
    },
    {
      "cell_type": "markdown",
      "metadata": {
        "id": "F3TdEWzpGsGH",
        "colab_type": "text"
      },
      "source": [
        "#### **2.2: Dimensionality Reduction**"
      ]
    },
    {
      "cell_type": "markdown",
      "metadata": {
        "id": "xUxPAKSRrW43",
        "colab_type": "text"
      },
      "source": [
        "To get the term-document matrix, we need to convert this matrix to its dense form using the following function `densify`. We make sure to select a cutoff point of the number of columns as we determined from Homework 4 that the performance of the model (based on accuracy) mostly plateaus from a rising pattern from 0.75 to a consistent 0.795 at a cutoff of 9. "
      ]
    },
    {
      "cell_type": "code",
      "metadata": {
        "id": "XqNq6ExITV-L",
        "colab_type": "code",
        "colab": {}
      },
      "source": [
        "def densify(sparse, columns):\n",
        "  matrix = []\n",
        "  for i, s in enumerate(sparse):\n",
        "    row = []\n",
        "    col = 0\n",
        "    for tup in s:\n",
        "      while (col != tup[0]):\n",
        "        row.append(0)\n",
        "        col += 1\n",
        "      row.append(tup[1])\n",
        "      col += 1\n",
        "    while len(row) < columns:\n",
        "      row.append(0)\n",
        "    matrix.append(np.array(row[:columns]))\n",
        "\n",
        "  return np.array(matrix)"
      ],
      "execution_count": 0,
      "outputs": []
    },
    {
      "cell_type": "code",
      "metadata": {
        "id": "htipvYXBTZkE",
        "colab_type": "code",
        "outputId": "1bad0663-dbe2-4dfb-a1a5-5061d7a6a7df",
        "colab": {
          "base_uri": "https://localhost:8080/",
          "height": 155
        }
      },
      "source": [
        "td = densify(reviews_tfidf, 9)\n",
        "print(td)\n",
        "print(td.shape)"
      ],
      "execution_count": 0,
      "outputs": [
        {
          "output_type": "stream",
          "text": [
            "[[0.06600342 0.12360094 0.04077966 ... 0.4183486  0.04500737 0.18913727]\n",
            " [0.         0.         0.         ... 0.         0.         0.        ]\n",
            " [0.         0.         0.         ... 0.         0.06166404 0.        ]\n",
            " ...\n",
            " [0.         0.         0.         ... 0.         0.         0.        ]\n",
            " [0.16004646 0.         0.         ... 0.         0.         0.        ]\n",
            " [0.         0.         0.         ... 0.         0.07210309 0.        ]]\n",
            "(100000, 9)\n"
          ],
          "name": "stdout"
        }
      ]
    },
    {
      "cell_type": "markdown",
      "metadata": {
        "id": "aBno9fyHI5q3",
        "colab_type": "text"
      },
      "source": [
        "We will be performing dimensionality reduction on the dataset for each of the text classification techniques in the next section by training an LsiModel (PCA) and densifying the projections. "
      ]
    },
    {
      "cell_type": "markdown",
      "metadata": {
        "id": "WFusPEzcHQBT",
        "colab_type": "text"
      },
      "source": [
        "#### **2.3: Text Classification Techniques**"
      ]
    },
    {
      "cell_type": "markdown",
      "metadata": {
        "id": "RD1O8j8vHSzZ",
        "colab_type": "text"
      },
      "source": [
        "###### 2.3.1 Naive Bayes Classifier\n",
        "\n",
        "The baseline model I will start off with is the Naive Bayes Classifier. Naive Bayes works well with text data, is simple to implement, and is relatively fast. \n",
        "\n",
        "Being the most \"naive\" classifier, however, this classifier holds the naive Bayes assumtion: there is a strong assumption about the shape of how the data is distributed independently. This limitation is shown in the accuracies shown below. Here is the Gaussian Naive Bayes model. The Gaussian Naive Bayes is used when all the features of the text are continuous. "
      ]
    },
    {
      "cell_type": "code",
      "metadata": {
        "id": "4dwB0iptspxT",
        "colab_type": "code",
        "colab": {}
      },
      "source": [
        "def evaluate_nb_model(X, review_times, y):\n",
        "    X = np.hstack((X, review_times))\n",
        "    X_train, X_test, y_train, y_test = ms.train_test_split(X, y, test_size=0.2, random_state = 1911)\n",
        "    rfor = GaussianNB()\n",
        "    rfor.fit(X_train, y_train)  \n",
        "    return rfor.score(X_test, y_test)\n"
      ],
      "execution_count": 0,
      "outputs": []
    },
    {
      "cell_type": "code",
      "metadata": {
        "id": "jY0LSernn9YO",
        "colab_type": "code",
        "colab": {}
      },
      "source": [
        "def evaluate_nb_cutoffs(X_orig, X_dict, X_times, y, cutoffs):\n",
        "    results = []\n",
        "    for cutoff in cutoffs:\n",
        "        np.random.seed(1911)\n",
        "        model3 = LsiModel(X_orig, id2word=X_dict, num_topics=cutoff)\n",
        "        V = densify(model3[X_orig], cutoff)\n",
        "        results.append(evaluate_nb_model(V, X_times, y))\n",
        "    return results   "
      ],
      "execution_count": 0,
      "outputs": []
    },
    {
      "cell_type": "code",
      "metadata": {
        "id": "jjiJHSy0VE9_",
        "colab_type": "code",
        "outputId": "013d6cf0-7622-490b-c78d-a3a2786b2070",
        "colab": {
          "base_uri": "https://localhost:8080/",
          "height": 52
        }
      },
      "source": [
        "results = evaluate_nb_cutoffs(reviews_tfidf, reviews_dict, reviews_times, y, range(20,28))\n",
        "display(results)\n",
        "print(\"Max accuracy: \", max(results))"
      ],
      "execution_count": 0,
      "outputs": [
        {
          "output_type": "display_data",
          "data": {
            "text/plain": [
              "[0.243, 0.243, 0.243, 0.243, 0.243, 0.243, 0.243, 0.243]"
            ]
          },
          "metadata": {
            "tags": []
          }
        },
        {
          "output_type": "stream",
          "text": [
            "Max accuracy:  0.243\n"
          ],
          "name": "stdout"
        }
      ]
    },
    {
      "cell_type": "markdown",
      "metadata": {
        "id": "ITbsSTpLFQ3r",
        "colab_type": "text"
      },
      "source": [
        "That's pretty terrible, with the maximum accuracy scoring just a few percentages above randomly guessing 1 out of 5 star ratings. Let's try multinomial Naive Bayes this time. Multinomial Naive Bayes is used in text learning when we have discrete data, such as ratings ranging from 1 and 5. This sounds like it would be a lot more fitted for our dataset."
      ]
    },
    {
      "cell_type": "code",
      "metadata": {
        "id": "XpZa8T9lLhWV",
        "colab_type": "code",
        "colab": {}
      },
      "source": [
        "from sklearn.naive_bayes import MultinomialNB\n",
        "from sklearn.preprocessing import MinMaxScaler"
      ],
      "execution_count": 0,
      "outputs": []
    },
    {
      "cell_type": "code",
      "metadata": {
        "id": "ASbzqVN3Ls99",
        "colab_type": "code",
        "colab": {}
      },
      "source": [
        "def evaluate_mnb_model(X, review_times, y):\n",
        "    scaler = MinMaxScaler()  \n",
        "    X = np.hstack((X, review_times))\n",
        "    X_train, X_test, y_train, y_test = ms.train_test_split(X, y, test_size=0.2, random_state = 1911)\n",
        "    scaler.fit(X_train)\n",
        "    X_train = scaler.transform(X_train) \n",
        "    X_test = scaler.transform(X_test)  \n",
        "    rfor = MultinomialNB()\n",
        "    rfor.fit(X_train, y_train)  \n",
        "    return rfor.score(X_test, y_test)\n"
      ],
      "execution_count": 0,
      "outputs": []
    },
    {
      "cell_type": "markdown",
      "metadata": {
        "id": "rBLK69kLOpft",
        "colab_type": "text"
      },
      "source": [
        "Running this without the `MinMaxScaler()` produces the following error: `\"ValueError: Input X must be non-negative.\"` To remedy this, we scale our training features to [0,1] using MinMaxScaler."
      ]
    },
    {
      "cell_type": "code",
      "metadata": {
        "id": "TzDzBj6yLTwJ",
        "colab_type": "code",
        "colab": {}
      },
      "source": [
        "def evaluate_mnb_cutoffs(X_orig, X_dict, X_times, y, cutoffs):\n",
        "    results = []\n",
        "    for cutoff in cutoffs:\n",
        "        np.random.seed(1911)\n",
        "        model3 = LsiModel(X_orig, id2word=X_dict, num_topics=cutoff)\n",
        "        V = densify(model3[X_orig], cutoff)\n",
        "        results.append(evaluate_mnb_model(V, X_times, y))\n",
        "    return results   "
      ],
      "execution_count": 0,
      "outputs": []
    },
    {
      "cell_type": "code",
      "metadata": {
        "id": "soNZnzz2L1Ec",
        "colab_type": "code",
        "outputId": "4fb8ed51-3b57-4a13-f362-d677c7192bc3",
        "colab": {
          "base_uri": "https://localhost:8080/",
          "height": 52
        }
      },
      "source": [
        "results = evaluate_mnb_cutoffs(reviews_tfidf, reviews_dict, reviews_times, y, range(20,28))\n",
        "display(results)\n",
        "print(\"Max accuracy: \", max(results))"
      ],
      "execution_count": 0,
      "outputs": [
        {
          "output_type": "display_data",
          "data": {
            "text/plain": [
              "[0.69095, 0.68715, 0.69885, 0.6973, 0.69455, 0.6948, 0.685, 0.68715]"
            ]
          },
          "metadata": {
            "tags": []
          }
        },
        {
          "output_type": "stream",
          "text": [
            "Max accuracy:  0.69885\n"
          ],
          "name": "stdout"
        }
      ]
    },
    {
      "cell_type": "markdown",
      "metadata": {
        "id": "q9iiAHGpMilX",
        "colab_type": "text"
      },
      "source": [
        "It seems like multinomial Naive Bayes was clearly the more suitable model. Gaussian Naive Bayes will remain our baseline model. "
      ]
    },
    {
      "cell_type": "markdown",
      "metadata": {
        "id": "KHStvB6HUdkz",
        "colab_type": "text"
      },
      "source": [
        "###### 2.3.2 Logistic Regression\n",
        "\n",
        "Logistic regression is the next text classification technique we will explore. This classifier doesn't require a lot of computational resources, does not require pre-processing of input features, and does not require tuning!\n",
        "\n",
        "Given those conveniences, logistic regression cannot solve any non-linear problems and it attemps to predict outcomes based on independent variables. Let's see how it performs. "
      ]
    },
    {
      "cell_type": "markdown",
      "metadata": {
        "id": "d0wwCNet9mjO",
        "colab_type": "text"
      },
      "source": [
        "We've learned that adding a regularization term helps with reducing over-fitting the data. We'll try it out -- smaller values of `C` (inverse of regularization strength) specifies stronger regularization, so we'll set it to `1e^-2 `."
      ]
    },
    {
      "cell_type": "code",
      "metadata": {
        "id": "KUf2RPEOINmJ",
        "colab_type": "code",
        "colab": {}
      },
      "source": [
        "def evaluate_log_model(X, review_times, y):\n",
        "    X_train, X_test, y_train, y_test = ms.train_test_split(X, y, test_size=0.2, random_state = 195)\n",
        "    model = LogisticRegression(solver = 'lbfgs', C=1e-2, random_state=10, max_iter=300, multi_class = 'auto') \n",
        "    log = model.fit(X_train, y_train)  \n",
        "    return log.score(X_test, y_test)"
      ],
      "execution_count": 0,
      "outputs": []
    },
    {
      "cell_type": "code",
      "metadata": {
        "id": "npm8VmlTITei",
        "colab_type": "code",
        "colab": {}
      },
      "source": [
        "def evaluate_log_cutoffs(X_orig, X_dict, X_times, y, cutoffs):\n",
        "    results = []\n",
        "    for cutoff in cutoffs:\n",
        "        np.random.seed(1911)\n",
        "        model3 = LsiModel(X_orig, id2word=X_dict, num_topics=cutoff)\n",
        "        V = densify(model3[X_orig], cutoff)\n",
        "        results.append(evaluate_log_model(V, X_times, y))\n",
        "    return results   "
      ],
      "execution_count": 0,
      "outputs": []
    },
    {
      "cell_type": "code",
      "metadata": {
        "id": "cf5KVyJ8Ip8o",
        "colab_type": "code",
        "outputId": "75b0c77e-cdf2-4e90-ccdf-6f92f8c041d3",
        "colab": {
          "base_uri": "https://localhost:8080/",
          "height": 207
        }
      },
      "source": [
        "results = evaluate_log_cutoffs(reviews_tfidf, reviews_dict, reviews_times, y, range(20,30))\n",
        "display(results)\n",
        "print(\"Max accuracy: \", max(results))"
      ],
      "execution_count": 0,
      "outputs": [
        {
          "output_type": "display_data",
          "data": {
            "text/plain": [
              "[0.7403,\n",
              " 0.75,\n",
              " 0.7513,\n",
              " 0.7516,\n",
              " 0.75195,\n",
              " 0.7524,\n",
              " 0.7518,\n",
              " 0.7536,\n",
              " 0.7555,\n",
              " 0.75425]"
            ]
          },
          "metadata": {
            "tags": []
          }
        },
        {
          "output_type": "stream",
          "text": [
            "Max accuracy:  0.7555\n"
          ],
          "name": "stdout"
        }
      ]
    },
    {
      "cell_type": "markdown",
      "metadata": {
        "id": "PxGAHDSB-eR-",
        "colab_type": "text"
      },
      "source": [
        "Accuracy is better here than our baseline model.\n",
        "We should note that regularization doesn't improve the performace on the dataset that the algorithm used to learn the feature weights, but it does improve the performance of generalization."
      ]
    },
    {
      "cell_type": "markdown",
      "metadata": {
        "id": "-hW7HSM6GgX6",
        "colab_type": "text"
      },
      "source": [
        "2.3.3 Boosting\n",
        "\n",
        "Boosting is essentially a group of machine learning algorithms that convert weaker learners to stronger ones: *can a set of weak learners create a single strong learner?* (Michael Kearns and Leslie Valiant)\n",
        "This model both improves the stability and accuracy, and helps avoid overfitting by reducing variance. The obvious downsides are the resulting computational complexity and -- as we will see -- the tuning of multiple different hyperparameters."
      ]
    },
    {
      "cell_type": "code",
      "metadata": {
        "id": "Jcubz_I_K6V3",
        "colab_type": "code",
        "colab": {}
      },
      "source": [
        "from sklearn.ensemble import GradientBoostingClassifier"
      ],
      "execution_count": 0,
      "outputs": []
    },
    {
      "cell_type": "code",
      "metadata": {
        "id": "duUj37W2IkRq",
        "colab_type": "code",
        "colab": {}
      },
      "source": [
        "def evaluate_boosted_model(X, review_times, y):\n",
        "    X_train, X_test, y_train, y_test = ms.train_test_split(X, y, test_size=0.2, random_state = 1911)\n",
        "    model = GradientBoostingClassifier(loss='deviance', learning_rate=0.1, n_estimators=100, \n",
        "                               subsample=1.0, criterion='friedman_mse', min_samples_split=2,\n",
        "                               min_samples_leaf=1, min_weight_fraction_leaf=0.0, max_depth=3, \n",
        "                               min_impurity_decrease=0.0, tol=0.01)\n",
        "    boosted = model.fit(X_train, y_train) \n",
        "    return boosted.score(X_test, y_test)"
      ],
      "execution_count": 0,
      "outputs": []
    },
    {
      "cell_type": "code",
      "metadata": {
        "id": "npgTbOwoIkbw",
        "colab_type": "code",
        "colab": {}
      },
      "source": [
        "def evaluate_boosted_cutoffs(X_orig, X_dict, X_times, y, cutoffs):\n",
        "    results = []\n",
        "    for cutoff in cutoffs:\n",
        "        np.random.seed(1911)\n",
        "        model3 = LsiModel(X_orig, id2word=X_dict, num_topics=cutoff)\n",
        "        V = densify(model3[X_orig], cutoff)\n",
        "        results.append(evaluate_boosted_model(V, X_times, y))\n",
        "    return results  \n",
        " "
      ],
      "execution_count": 0,
      "outputs": []
    },
    {
      "cell_type": "code",
      "metadata": {
        "id": "MtpxhqMEIr-n",
        "colab_type": "code",
        "outputId": "8adab565-31ee-4740-91f4-e45c2bde7d49",
        "colab": {
          "base_uri": "https://localhost:8080/",
          "height": 52
        }
      },
      "source": [
        "results = evaluate_boosted_cutoffs(reviews_tfidf, reviews_dict, reviews_times, y, range(20,28))\n",
        "display(results)\n",
        "print(\"Max accuracy: \", max(results))"
      ],
      "execution_count": 0,
      "outputs": [
        {
          "output_type": "display_data",
          "data": {
            "text/plain": [
              "[0.7829, 0.7844, 0.78515, 0.7873, 0.7877, 0.78645, 0.7854, 0.78665]"
            ]
          },
          "metadata": {
            "tags": []
          }
        },
        {
          "output_type": "stream",
          "text": [
            "Max accuracy:  0.7877\n"
          ],
          "name": "stdout"
        }
      ]
    },
    {
      "cell_type": "markdown",
      "metadata": {
        "id": "OIal2uUjKOnC",
        "colab_type": "text"
      },
      "source": [
        "sklearn's GridSearchCV performs an exhaustive search over specified parameter values for an estimator. This will help us determine how to best tune our hyperparameters here.\n",
        "\n",
        "Let's take a look at the parameters here that we may want to tune. \n",
        "\n",
        "* learning rate: determines the impact of each tree on its final outcome. Lower values of learning rate requires more trees to model all the relations (computationally expensive).\n",
        "\n",
        "* n_estimators: determines the number of sequential trees to be modeled. At a high number of trees, Gradient Boosting can overfit. \n",
        "\n",
        "* subsample: fraction of observations to be selected for each of the trees. Usually values around 0.8 work fine."
      ]
    },
    {
      "cell_type": "code",
      "metadata": {
        "id": "sjP0jsZaKAJN",
        "colab_type": "code",
        "colab": {}
      },
      "source": [
        "from sklearn.model_selection import GridSearchCV\n",
        "from sklearn import preprocessing"
      ],
      "execution_count": 0,
      "outputs": []
    },
    {
      "cell_type": "code",
      "metadata": {
        "id": "Bzvd3DD9KBjb",
        "colab_type": "code",
        "colab": {}
      },
      "source": [
        "def evaluate_boosted_tuned_model(X, review_times, y):\n",
        "    X_train, X_test, y_train, y_test = ms.train_test_split(X, y, test_size=0.2, random_state = 1911)\n",
        "    X_train = preprocessing.scale(X_train)\n",
        "    model = GradientBoostingClassifier()\n",
        "    parameters = {'learning_rate':[0.1, 0.2], 'n_estimators': [50, 100, 150], \n",
        "                  'subsample': [0.8, 0.85]}\n",
        "    grid = GridSearchCV(model, parameters, n_jobs=-1)\n",
        "    grid.fit(X_train, y_train)\n",
        "    return grid.best_score_"
      ],
      "execution_count": 0,
      "outputs": []
    },
    {
      "cell_type": "code",
      "metadata": {
        "colab_type": "code",
        "id": "qCSXn0ogzbHY",
        "colab": {}
      },
      "source": [
        "def evaluate_boosted_tuned_cutoffs(X_orig, X_dict, X_times, y, cutoffs):\n",
        "    results = []\n",
        "    for cutoff in cutoffs:\n",
        "        np.random.seed(1911)\n",
        "        model3 = LsiModel(X_orig, id2word=X_dict, num_topics=cutoff)\n",
        "        V = densify(model3[X_orig], cutoff)\n",
        "        results.append(evaluate_boosted_tuned_model(V, X_times, y))\n",
        "    return results  "
      ],
      "execution_count": 0,
      "outputs": []
    },
    {
      "cell_type": "code",
      "metadata": {
        "id": "mK_BT0T4NFCA",
        "colab_type": "code",
        "outputId": "82387d08-87e8-4229-da8b-61c5da796f6d",
        "colab": {
          "base_uri": "https://localhost:8080/",
          "height": 89
        }
      },
      "source": [
        "results = evaluate_boosted_tuned_cutoffs(reviews_tfidf, reviews_dict, reviews_times, y, [20])\n",
        "display(results)"
      ],
      "execution_count": 0,
      "outputs": [
        {
          "output_type": "stream",
          "text": [
            "/usr/local/lib/python3.6/dist-packages/sklearn/model_selection/_split.py:1978: FutureWarning: The default value of cv will change from 3 to 5 in version 0.22. Specify it explicitly to silence this warning.\n",
            "  warnings.warn(CV_WARNING, FutureWarning)\n"
          ],
          "name": "stderr"
        },
        {
          "output_type": "display_data",
          "data": {
            "text/plain": [
              "[0.7897625]"
            ]
          },
          "metadata": {
            "tags": []
          }
        }
      ]
    },
    {
      "cell_type": "markdown",
      "metadata": {
        "id": "AU_knbLwOgWY",
        "colab_type": "text"
      },
      "source": [
        "A slight increase in accuracy (0.7877 vs. 0.7897625) after tuning some parameters!"
      ]
    },
    {
      "cell_type": "markdown",
      "metadata": {
        "id": "y6ZS3IEdqHgF",
        "colab_type": "text"
      },
      "source": [
        "This takes a very long time to run (around 30 minutes for me). In fact, this [stackoverflow post](https://stackoverflow.com/questions/17455302/gridsearchcv-extremely-slow-on-small-dataset-in-scikit-learn/23813876) suggests that preprocessing the data, adding verbosity to the initial tuning, adding `n_jobs = -1` as one of the parameters to use all available CPU cores, and other modifications will speed this process up. I have used all of the suggestions, but GridSearchCV remains quite slow for obvious reasons (it's a brute force method with a large number of parameter combinations)."
      ]
    },
    {
      "cell_type": "markdown",
      "metadata": {
        "id": "ptjF1ey2Ajki",
        "colab_type": "text"
      },
      "source": [
        "###### 2.3.4 Random Forest Model\n",
        "\n",
        "We trained a random forest model in the previous assignment, but I want to see whether some tuning we have done to previous models (e.g. adding a scaler, tuning the hyperparameters, etc.) can improve the classifier even more.\n",
        "\n",
        "0.79855 is the accuracy we obtained in Homework 4."
      ]
    },
    {
      "cell_type": "code",
      "metadata": {
        "id": "Id4IS6YWm2do",
        "colab_type": "code",
        "colab": {}
      },
      "source": [
        "def evaluate_rf_model(X, review_times, y):\n",
        "    scaler = MinMaxScaler()  \n",
        "    X = np.hstack((X, review_times))\n",
        "    X_train, X_test, y_train, y_test = ms.train_test_split(X, y, test_size=0.2, random_state = 1911)\n",
        "    scaler.fit(X_train)\n",
        "    X_train = scaler.transform(X_train) \n",
        "    X_test = scaler.transform(X_test)  \n",
        "    rfor = RandomForestClassifier(n_estimators=70, random_state=1911)\n",
        "    rfor.fit(X_train, y_train)\n",
        "    return rfor.score(X_test, y_test)"
      ],
      "execution_count": 0,
      "outputs": []
    },
    {
      "cell_type": "code",
      "metadata": {
        "id": "O8usz4czo77x",
        "colab_type": "code",
        "colab": {}
      },
      "source": [
        "def evaluate_rf_cutoffs(X_orig, X_dict, X_times, y, cutoffs):\n",
        "    results = []\n",
        "    for cutoff in cutoffs:\n",
        "        np.random.seed(1911)\n",
        "        model3 = LsiModel(X_orig, id2word=X_dict, num_topics=cutoff)\n",
        "        V = densify(model3[X_orig], cutoff)\n",
        "        results.append(evaluate_rf_model(V, X_times, y))\n",
        "        print(results)\n",
        "    return results   "
      ],
      "execution_count": 0,
      "outputs": []
    },
    {
      "cell_type": "code",
      "metadata": {
        "id": "d5ukUEmdTXHC",
        "colab_type": "code",
        "outputId": "3458b4f0-0ce5-487d-d1ed-3e3986aa6bcd",
        "colab": {
          "base_uri": "https://localhost:8080/",
          "height": 190
        }
      },
      "source": [
        "results = evaluate_rf_cutoffs(reviews_tfidf, reviews_dict, reviews_times, y, range(20,28))\n",
        "display(results)\n",
        "print(\"Max accuracy: \", max(results))"
      ],
      "execution_count": 0,
      "outputs": [
        {
          "output_type": "stream",
          "text": [
            "[0.79415]\n",
            "[0.79415, 0.7966]\n",
            "[0.79415, 0.7966, 0.7943]\n",
            "[0.79415, 0.7966, 0.7943, 0.79635]\n",
            "[0.79415, 0.7966, 0.7943, 0.79635, 0.79605]\n",
            "[0.79415, 0.7966, 0.7943, 0.79635, 0.79605, 0.7966]\n",
            "[0.79415, 0.7966, 0.7943, 0.79635, 0.79605, 0.7966, 0.79565]\n",
            "[0.79415, 0.7966, 0.7943, 0.79635, 0.79605, 0.7966, 0.79565, 0.7958]\n"
          ],
          "name": "stdout"
        },
        {
          "output_type": "display_data",
          "data": {
            "text/plain": [
              "[0.79415, 0.7966, 0.7943, 0.79635, 0.79605, 0.7966, 0.79565, 0.7958]"
            ]
          },
          "metadata": {
            "tags": []
          }
        },
        {
          "output_type": "stream",
          "text": [
            "Max accuracy:  0.7966\n"
          ],
          "name": "stdout"
        }
      ]
    },
    {
      "cell_type": "markdown",
      "metadata": {
        "id": "_F3_uE-KozAM",
        "colab_type": "text"
      },
      "source": [
        "Looks like using a MinMaxScaler didn't do much to boost the accuracy of our Random Forest model."
      ]
    },
    {
      "cell_type": "markdown",
      "metadata": {
        "id": "KB0I68K_H7V9",
        "colab_type": "text"
      },
      "source": [
        "##### 2.3.5 Neural Networks\n",
        "\n",
        "Finally, we'll try using neural networks for this dataset for text classification. "
      ]
    },
    {
      "cell_type": "markdown",
      "metadata": {
        "id": "7A0I6nSqwYZe",
        "colab_type": "text"
      },
      "source": [
        "###### 2.3.5.a MLPClassifier\n",
        "First, we will try using `sklearn`'s MLPClassifier, which is the multi-layer perceptron classifier. Multi-layer perceptron is a feedforward artificial neural network model which maps input data onto a set of outputs, and it consists of multiple layers fully connected to the previous layer. "
      ]
    },
    {
      "cell_type": "code",
      "metadata": {
        "id": "JmhBkReNVhae",
        "colab_type": "code",
        "colab": {}
      },
      "source": [
        "def evaluate_nn_model(X, review_times, y):\n",
        "    scaler = StandardScaler()  \n",
        "\n",
        "    X = np.hstack((X, review_times))\n",
        "    X_train, X_test, y_train, y_test = ms.train_test_split(X, y, test_size=0.2, random_state = 1911)\n",
        "    scaler.fit(X_train) \n",
        "    X_train = scaler.transform(X_train) \n",
        "    X_test = scaler.transform(X_test)  \n",
        "    rfor = MLPClassifier(solver='lbfgs', alpha=1e-5, hidden_layer_sizes=(5, 2), random_state=1)\n",
        "    rfor.fit(X_train, y_train)\n",
        "  \n",
        "    return rfor.score(X_test, y_test)"
      ],
      "execution_count": 0,
      "outputs": []
    },
    {
      "cell_type": "code",
      "metadata": {
        "id": "yUWCPgIfVpna",
        "colab_type": "code",
        "colab": {}
      },
      "source": [
        "def evaluate_nn_cutoffs(X_orig, X_dict, X_times, y, cutoffs):\n",
        "    results = []\n",
        "    for cutoff in cutoffs:\n",
        "        np.random.seed(1911)\n",
        "        # train an LsiModel \n",
        "        model3 = LsiModel(X_orig, id2word=X_dict, num_topics=cutoff)\n",
        "        V = densify(model3[X_orig], cutoff)\n",
        "\n",
        "        results.append(evaluate_nn_model(V, X_times, y))\n",
        "        print(results)\n",
        "    return results   "
      ],
      "execution_count": 0,
      "outputs": []
    },
    {
      "cell_type": "code",
      "metadata": {
        "id": "QJqckxivVsDq",
        "colab_type": "code",
        "outputId": "fa276849-c16a-4940-c65c-ae30baa16b5d",
        "colab": {
          "base_uri": "https://localhost:8080/",
          "height": 190
        }
      },
      "source": [
        "results = evaluate_nn_cutoffs(reviews_tfidf, reviews_dict, reviews_times, y, range(20,28))\n",
        "display(results)\n",
        "print(\"Max accuracy: \", max(results))"
      ],
      "execution_count": 0,
      "outputs": [
        {
          "output_type": "stream",
          "text": [
            "[0.5942]\n",
            "[0.5942, 0.75815]\n",
            "[0.5942, 0.75815, 0.7468]\n",
            "[0.5942, 0.75815, 0.7468, 0.7448]\n",
            "[0.5942, 0.75815, 0.7468, 0.7448, 0.7527]\n",
            "[0.5942, 0.75815, 0.7468, 0.7448, 0.7527, 0.75555]\n",
            "[0.5942, 0.75815, 0.7468, 0.7448, 0.7527, 0.75555, 0.6283]\n",
            "[0.5942, 0.75815, 0.7468, 0.7448, 0.7527, 0.75555, 0.6283, 0.5904]\n"
          ],
          "name": "stdout"
        },
        {
          "output_type": "display_data",
          "data": {
            "text/plain": [
              "[0.5942, 0.75815, 0.7468, 0.7448, 0.7527, 0.75555, 0.6283, 0.5904]"
            ]
          },
          "metadata": {
            "tags": []
          }
        },
        {
          "output_type": "stream",
          "text": [
            "Max accuracy:  0.75815\n"
          ],
          "name": "stdout"
        }
      ]
    },
    {
      "cell_type": "markdown",
      "metadata": {
        "id": "sK_gaEYHgXBp",
        "colab_type": "text"
      },
      "source": [
        "We will try to use GridSearchCV again here to see if we can tune the hyperparameters to improve the accuracy of this model.\n",
        "\n",
        "We're testing on more parameters, so this section takes around one hour to run on my machine. "
      ]
    },
    {
      "cell_type": "code",
      "metadata": {
        "id": "bZ4EHUY_nmqA",
        "colab_type": "code",
        "colab": {}
      },
      "source": [
        "from sklearn import preprocessing"
      ],
      "execution_count": 0,
      "outputs": []
    },
    {
      "cell_type": "code",
      "metadata": {
        "id": "bEDzNGpV_PNo",
        "colab_type": "code",
        "colab": {}
      },
      "source": [
        "def evaluate_nn_model_1(X, review_times, y):\n",
        "\n",
        "    X_train, X_test, y_train, y_test = ms.train_test_split(X, y, test_size=0.2, random_state = 1911)\n",
        "    X_train = preprocessing.scale(X_train)\n",
        "    nn_model = MLPClassifier()\n",
        "    parameters = {'solver': ['lbfgs','adam'], 'max_iter': [200,300,400], \n",
        "                  'alpha': [0.0001], 'activation':['relu'],\n",
        "                  'hidden_layer_sizes':(100, )}\n",
        "    grid = GridSearchCV(nn_model, parameters, n_jobs=-1)\n",
        "    grid.fit(X_train, y_train)\n",
        "    print(\"best params: \" , grid.best_params_)\n",
        "    return grid.best_score_"
      ],
      "execution_count": 0,
      "outputs": []
    },
    {
      "cell_type": "code",
      "metadata": {
        "id": "5_g8PBbq_PYS",
        "colab_type": "code",
        "colab": {}
      },
      "source": [
        "def evaluate_nn_1_cutoffs(X_orig, X_dict, X_times, y, cutoffs):\n",
        "    results = []\n",
        "    for cutoff in cutoffs:\n",
        "        np.random.seed(1911)\n",
        "        model3 = LsiModel(X_orig, id2word=X_dict, num_topics=cutoff)\n",
        "        V = densify(model3[X_orig], cutoff)\n",
        "\n",
        "        results.append(evaluate_nn_model_1(V, X_times, y))\n",
        "    return results   "
      ],
      "execution_count": 0,
      "outputs": []
    },
    {
      "cell_type": "code",
      "metadata": {
        "id": "i_6sHvJF_atM",
        "colab_type": "code",
        "outputId": "c22db9f5-4240-4918-a10e-57fb3a82e9b7",
        "colab": {
          "base_uri": "https://localhost:8080/",
          "height": 106
        }
      },
      "source": [
        "results = evaluate_nn_1_cutoffs(reviews_tfidf, reviews_dict, reviews_times, y, [20])\n",
        "display(results)"
      ],
      "execution_count": 0,
      "outputs": [
        {
          "output_type": "stream",
          "text": [
            "/usr/local/lib/python3.6/dist-packages/sklearn/model_selection/_split.py:1978: FutureWarning: The default value of cv will change from 3 to 5 in version 0.22. Specify it explicitly to silence this warning.\n",
            "  warnings.warn(CV_WARNING, FutureWarning)\n"
          ],
          "name": "stderr"
        },
        {
          "output_type": "stream",
          "text": [
            "best params:  {'activation': 'relu', 'alpha': 0.0001, 'hidden_layer_sizes': 100, 'max_iter': 400, 'solver': 'adam'}\n"
          ],
          "name": "stdout"
        },
        {
          "output_type": "display_data",
          "data": {
            "text/plain": [
              "[0.8050125]"
            ]
          },
          "metadata": {
            "tags": []
          }
        }
      ]
    },
    {
      "cell_type": "markdown",
      "metadata": {
        "id": "HCOmx0wdv-sE",
        "colab_type": "text"
      },
      "source": [
        "Whew, that took a while. \n",
        "\n",
        "I initially tried this on twice the number of different parameters, but that took over three hours of wait time after which I gave up and lowered the number of parameters I wanted to check. Still, this is an increase from our original MLPClassifier. \n",
        "\n",
        "Here,\n",
        "GridSearchCV let us know that choosing these parameters: 'activation': 'relu', 'alpha': 0.0001, 'hidden_layer_sizes': 100, 'max_iter': 400, 'solver': 'adam' gives us the highest accuracies. "
      ]
    },
    {
      "cell_type": "markdown",
      "metadata": {
        "id": "gVaJeUElDa_0",
        "colab_type": "text"
      },
      "source": [
        "###### 2.3.5.b Keras\n",
        "Keras is an open source Python library that lets us develop and evaluate deep learning models using Theano and TensorFlow. We will now use Keras to build our own deep learning neural network. Start by redefining densify and condensing y (ratings) so we can fit the Keras model on the dataset."
      ]
    },
    {
      "cell_type": "code",
      "metadata": {
        "id": "Kvg6ylem_eWK",
        "colab_type": "code",
        "outputId": "59c3ac8e-5505-4107-a776-8d5cc5294e33",
        "colab": {
          "base_uri": "https://localhost:8080/",
          "height": 538
        }
      },
      "source": [
        "!pip install keras\n",
        "!pip install tensorflow"
      ],
      "execution_count": 0,
      "outputs": [
        {
          "output_type": "stream",
          "text": [
            "Requirement already satisfied: keras in /usr/local/lib/python3.6/dist-packages (2.2.5)\n",
            "Requirement already satisfied: h5py in /usr/local/lib/python3.6/dist-packages (from keras) (2.8.0)\n",
            "Requirement already satisfied: six>=1.9.0 in /usr/local/lib/python3.6/dist-packages (from keras) (1.12.0)\n",
            "Requirement already satisfied: scipy>=0.14 in /usr/local/lib/python3.6/dist-packages (from keras) (1.3.3)\n",
            "Requirement already satisfied: numpy>=1.9.1 in /usr/local/lib/python3.6/dist-packages (from keras) (1.17.4)\n",
            "Requirement already satisfied: keras-preprocessing>=1.1.0 in /usr/local/lib/python3.6/dist-packages (from keras) (1.1.0)\n",
            "Requirement already satisfied: keras-applications>=1.0.8 in /usr/local/lib/python3.6/dist-packages (from keras) (1.0.8)\n",
            "Requirement already satisfied: pyyaml in /usr/local/lib/python3.6/dist-packages (from keras) (3.13)\n",
            "Requirement already satisfied: tensorflow in /usr/local/lib/python3.6/dist-packages (1.15.0)\n",
            "Requirement already satisfied: opt-einsum>=2.3.2 in /usr/local/lib/python3.6/dist-packages (from tensorflow) (3.1.0)\n",
            "Requirement already satisfied: keras-applications>=1.0.8 in /usr/local/lib/python3.6/dist-packages (from tensorflow) (1.0.8)\n",
            "Requirement already satisfied: wheel>=0.26 in /usr/local/lib/python3.6/dist-packages (from tensorflow) (0.33.6)\n",
            "Requirement already satisfied: protobuf>=3.6.1 in /usr/local/lib/python3.6/dist-packages (from tensorflow) (3.10.0)\n",
            "Requirement already satisfied: tensorflow-estimator==1.15.1 in /usr/local/lib/python3.6/dist-packages (from tensorflow) (1.15.1)\n",
            "Requirement already satisfied: absl-py>=0.7.0 in /usr/local/lib/python3.6/dist-packages (from tensorflow) (0.8.1)\n",
            "Requirement already satisfied: google-pasta>=0.1.6 in /usr/local/lib/python3.6/dist-packages (from tensorflow) (0.1.8)\n",
            "Requirement already satisfied: wrapt>=1.11.1 in /usr/local/lib/python3.6/dist-packages (from tensorflow) (1.11.2)\n",
            "Requirement already satisfied: keras-preprocessing>=1.0.5 in /usr/local/lib/python3.6/dist-packages (from tensorflow) (1.1.0)\n",
            "Requirement already satisfied: gast==0.2.2 in /usr/local/lib/python3.6/dist-packages (from tensorflow) (0.2.2)\n",
            "Requirement already satisfied: astor>=0.6.0 in /usr/local/lib/python3.6/dist-packages (from tensorflow) (0.8.0)\n",
            "Requirement already satisfied: numpy<2.0,>=1.16.0 in /usr/local/lib/python3.6/dist-packages (from tensorflow) (1.17.4)\n",
            "Requirement already satisfied: tensorboard<1.16.0,>=1.15.0 in /usr/local/lib/python3.6/dist-packages (from tensorflow) (1.15.0)\n",
            "Requirement already satisfied: grpcio>=1.8.6 in /usr/local/lib/python3.6/dist-packages (from tensorflow) (1.15.0)\n",
            "Requirement already satisfied: termcolor>=1.1.0 in /usr/local/lib/python3.6/dist-packages (from tensorflow) (1.1.0)\n",
            "Requirement already satisfied: six>=1.10.0 in /usr/local/lib/python3.6/dist-packages (from tensorflow) (1.12.0)\n",
            "Requirement already satisfied: h5py in /usr/local/lib/python3.6/dist-packages (from keras-applications>=1.0.8->tensorflow) (2.8.0)\n",
            "Requirement already satisfied: setuptools in /usr/local/lib/python3.6/dist-packages (from protobuf>=3.6.1->tensorflow) (42.0.2)\n",
            "Requirement already satisfied: markdown>=2.6.8 in /usr/local/lib/python3.6/dist-packages (from tensorboard<1.16.0,>=1.15.0->tensorflow) (3.1.1)\n",
            "Requirement already satisfied: werkzeug>=0.11.15 in /usr/local/lib/python3.6/dist-packages (from tensorboard<1.16.0,>=1.15.0->tensorflow) (0.16.0)\n"
          ],
          "name": "stdout"
        }
      ]
    },
    {
      "cell_type": "code",
      "metadata": {
        "id": "sFD8k8-5hEWi",
        "colab_type": "code",
        "colab": {}
      },
      "source": [
        "def densify_nn(sparse, columns):\n",
        "  matrix = []\n",
        "  for i, s in enumerate(sparse):\n",
        "    if i % 20 == 0:\n",
        "      row = []\n",
        "      col = 0\n",
        "      for tup in s:\n",
        "        while (col != tup[0]):\n",
        "          row.append(0)\n",
        "          col += 1\n",
        "        row.append(tup[1])\n",
        "        col += 1\n",
        "      while len(row) < columns:\n",
        "        row.append(0)\n",
        "      matrix.append(np.array(row[:columns]))\n",
        "  return np.array(matrix)"
      ],
      "execution_count": 0,
      "outputs": []
    },
    {
      "cell_type": "code",
      "metadata": {
        "id": "EIsqsxdMh2dw",
        "colab_type": "code",
        "outputId": "9e4402e7-0bf7-4d89-fd1e-8cef110c93ef",
        "colab": {
          "base_uri": "https://localhost:8080/",
          "height": 155
        }
      },
      "source": [
        "td_nn = densify_nn(reviews_tfidf, len(reviews_dict))\n",
        "print(td_nn)\n",
        "print(td_nn.shape)"
      ],
      "execution_count": 0,
      "outputs": [
        {
          "output_type": "stream",
          "text": [
            "[[0.06600342 0.12360094 0.04077966 ... 0.         0.         0.        ]\n",
            " [0.         0.         0.03750447 ... 0.         0.         0.        ]\n",
            " [0.         0.         0.         ... 0.         0.         0.        ]\n",
            " ...\n",
            " [0.         0.         0.         ... 0.         0.         0.        ]\n",
            " [0.         0.         0.         ... 0.         0.         0.        ]\n",
            " [0.         0.         0.         ... 0.         0.         0.        ]]\n",
            "(5000, 18716)\n"
          ],
          "name": "stdout"
        }
      ]
    },
    {
      "cell_type": "code",
      "metadata": {
        "id": "8apBd2LKYu8R",
        "colab_type": "code",
        "colab": {}
      },
      "source": [
        "def condense_y(matrix):\n",
        "  small_y = []\n",
        "  for i, ratings in enumerate(y):\n",
        "    if i % 20 == 0:\n",
        "      small_y.append(ratings)\n",
        "  return small_y\n"
      ],
      "execution_count": 0,
      "outputs": []
    },
    {
      "cell_type": "code",
      "metadata": {
        "id": "BE8cuCaUo44J",
        "colab_type": "code",
        "outputId": "40bc2f89-1723-4f90-93e0-5b54988926f0",
        "colab": {
          "base_uri": "https://localhost:8080/",
          "height": 35
        }
      },
      "source": [
        "condensed_y = np.asarray(condense_y(y))\n",
        "print(condensed_y)"
      ],
      "execution_count": 0,
      "outputs": [
        {
          "output_type": "stream",
          "text": [
            "[1 1 1 ... 5 5 5]\n"
          ],
          "name": "stdout"
        }
      ]
    },
    {
      "cell_type": "code",
      "metadata": {
        "id": "ffnVkH3LBjHy",
        "colab_type": "code",
        "outputId": "169d95b6-b659-4f0b-a9a4-1b50d8700ced",
        "colab": {
          "base_uri": "https://localhost:8080/",
          "height": 1000
        }
      },
      "source": [
        "from numpy import loadtxt\n",
        "from keras.models import Sequential\n",
        "from keras.layers import Dense\n",
        "\n",
        "X = td_nn\n",
        "y = np.asarray(condense_y(y))\n",
        "\n",
        "# define the keras model\n",
        "model = Sequential()\n",
        "model.add(Dense(12, activation='relu'))\n",
        "model.add(Dense(8, activation='relu'))\n",
        "model.add(Dense(1, activation='sigmoid'))\n",
        "# compile the keras model\n",
        "model.compile(loss='binary_crossentropy', optimizer='adam', metrics=['accuracy'])\n",
        "# fit the keras model on the dataset\n",
        "model.fit(X, y, epochs=20, batch_size=10)\n",
        "# evaluate the keras model\n",
        "_, accuracy = model.evaluate(X, y)\n",
        "print('Accuracy: %.2f' % (accuracy*100))\n",
        "  "
      ],
      "execution_count": 0,
      "outputs": [
        {
          "output_type": "stream",
          "text": [
            "Using TensorFlow backend.\n"
          ],
          "name": "stderr"
        },
        {
          "output_type": "display_data",
          "data": {
            "text/html": [
              "<p style=\"color: red;\">\n",
              "The default version of TensorFlow in Colab will soon switch to TensorFlow 2.x.<br>\n",
              "We recommend you <a href=\"https://www.tensorflow.org/guide/migrate\" target=\"_blank\">upgrade</a> now \n",
              "or ensure your notebook will continue to use TensorFlow 1.x via the <code>%tensorflow_version 1.x</code> magic:\n",
              "<a href=\"https://colab.research.google.com/notebooks/tensorflow_version.ipynb\" target=\"_blank\">more info</a>.</p>\n"
            ],
            "text/plain": [
              "<IPython.core.display.HTML object>"
            ]
          },
          "metadata": {
            "tags": []
          }
        },
        {
          "output_type": "stream",
          "text": [
            "WARNING:tensorflow:From /usr/local/lib/python3.6/dist-packages/keras/backend/tensorflow_backend.py:66: The name tf.get_default_graph is deprecated. Please use tf.compat.v1.get_default_graph instead.\n",
            "\n",
            "WARNING:tensorflow:From /usr/local/lib/python3.6/dist-packages/keras/optimizers.py:793: The name tf.train.Optimizer is deprecated. Please use tf.compat.v1.train.Optimizer instead.\n",
            "\n",
            "WARNING:tensorflow:From /usr/local/lib/python3.6/dist-packages/keras/backend/tensorflow_backend.py:541: The name tf.placeholder is deprecated. Please use tf.compat.v1.placeholder instead.\n",
            "\n",
            "WARNING:tensorflow:From /usr/local/lib/python3.6/dist-packages/keras/backend/tensorflow_backend.py:4432: The name tf.random_uniform is deprecated. Please use tf.random.uniform instead.\n",
            "\n",
            "WARNING:tensorflow:From /usr/local/lib/python3.6/dist-packages/keras/backend/tensorflow_backend.py:3657: The name tf.log is deprecated. Please use tf.math.log instead.\n",
            "\n",
            "WARNING:tensorflow:From /usr/local/lib/python3.6/dist-packages/tensorflow_core/python/ops/nn_impl.py:183: where (from tensorflow.python.ops.array_ops) is deprecated and will be removed in a future version.\n",
            "Instructions for updating:\n",
            "Use tf.where in 2.0, which has the same broadcast rule as np.where\n",
            "WARNING:tensorflow:From /usr/local/lib/python3.6/dist-packages/keras/backend/tensorflow_backend.py:1033: The name tf.assign_add is deprecated. Please use tf.compat.v1.assign_add instead.\n",
            "\n",
            "WARNING:tensorflow:From /usr/local/lib/python3.6/dist-packages/keras/backend/tensorflow_backend.py:1020: The name tf.assign is deprecated. Please use tf.compat.v1.assign instead.\n",
            "\n",
            "WARNING:tensorflow:From /usr/local/lib/python3.6/dist-packages/keras/backend/tensorflow_backend.py:3005: The name tf.Session is deprecated. Please use tf.compat.v1.Session instead.\n",
            "\n",
            "Epoch 1/20\n",
            "WARNING:tensorflow:From /usr/local/lib/python3.6/dist-packages/keras/backend/tensorflow_backend.py:190: The name tf.get_default_session is deprecated. Please use tf.compat.v1.get_default_session instead.\n",
            "\n",
            "WARNING:tensorflow:From /usr/local/lib/python3.6/dist-packages/keras/backend/tensorflow_backend.py:197: The name tf.ConfigProto is deprecated. Please use tf.compat.v1.ConfigProto instead.\n",
            "\n",
            "WARNING:tensorflow:From /usr/local/lib/python3.6/dist-packages/keras/backend/tensorflow_backend.py:207: The name tf.global_variables is deprecated. Please use tf.compat.v1.global_variables instead.\n",
            "\n",
            "WARNING:tensorflow:From /usr/local/lib/python3.6/dist-packages/keras/backend/tensorflow_backend.py:216: The name tf.is_variable_initialized is deprecated. Please use tf.compat.v1.is_variable_initialized instead.\n",
            "\n",
            "WARNING:tensorflow:From /usr/local/lib/python3.6/dist-packages/keras/backend/tensorflow_backend.py:223: The name tf.variables_initializer is deprecated. Please use tf.compat.v1.variables_initializer instead.\n",
            "\n",
            "5000/5000 [==============================] - 4s 830us/step - loss: -21.2012 - acc: 0.2000\n",
            "Epoch 2/20\n",
            "5000/5000 [==============================] - 3s 680us/step - loss: -31.8743 - acc: 0.2000\n",
            "Epoch 3/20\n",
            "5000/5000 [==============================] - 3s 660us/step - loss: -31.8818 - acc: 0.2000\n",
            "Epoch 4/20\n",
            "5000/5000 [==============================] - 3s 648us/step - loss: -31.8837 - acc: 0.2000\n",
            "Epoch 5/20\n",
            "5000/5000 [==============================] - 4s 704us/step - loss: -31.8839 - acc: 0.2000\n",
            "Epoch 6/20\n",
            "5000/5000 [==============================] - 4s 742us/step - loss: -31.8839 - acc: 0.2000\n",
            "Epoch 7/20\n",
            "5000/5000 [==============================] - 3s 662us/step - loss: -31.8841 - acc: 0.2000\n",
            "Epoch 8/20\n",
            "5000/5000 [==============================] - 3s 602us/step - loss: -31.8841 - acc: 0.2000\n",
            "Epoch 9/20\n",
            "5000/5000 [==============================] - 3s 620us/step - loss: -31.8842 - acc: 0.2000\n",
            "Epoch 10/20\n",
            "5000/5000 [==============================] - 3s 678us/step - loss: -31.8843 - acc: 0.2000\n",
            "Epoch 11/20\n",
            "5000/5000 [==============================] - 3s 616us/step - loss: -31.8844 - acc: 0.2000\n",
            "Epoch 12/20\n",
            "5000/5000 [==============================] - 3s 656us/step - loss: -31.8845 - acc: 0.2000\n",
            "Epoch 13/20\n",
            "5000/5000 [==============================] - 4s 720us/step - loss: -31.8846 - acc: 0.2000\n",
            "Epoch 14/20\n",
            "5000/5000 [==============================] - 3s 679us/step - loss: -31.8848 - acc: 0.2000\n",
            "Epoch 15/20\n",
            "5000/5000 [==============================] - 3s 694us/step - loss: -31.8848 - acc: 0.2000\n",
            "Epoch 16/20\n",
            "5000/5000 [==============================] - 3s 562us/step - loss: -31.8848 - acc: 0.2000\n",
            "Epoch 17/20\n",
            "5000/5000 [==============================] - 4s 887us/step - loss: -31.8848 - acc: 0.2000\n",
            "Epoch 18/20\n",
            "5000/5000 [==============================] - 4s 898us/step - loss: -31.8848 - acc: 0.2000\n",
            "Epoch 19/20\n",
            "5000/5000 [==============================] - 4s 849us/step - loss: -31.8848 - acc: 0.2000\n",
            "Epoch 20/20\n",
            "5000/5000 [==============================] - 3s 682us/step - loss: -31.8848 - acc: 0.2000\n",
            "5000/5000 [==============================] - 1s 118us/step\n",
            "Accuracy: 20.00\n"
          ],
          "name": "stdout"
        }
      ]
    },
    {
      "cell_type": "markdown",
      "metadata": {
        "id": "SD_orhFzh5F-",
        "colab_type": "text"
      },
      "source": [
        "20% accuracy! This is worse than our baseline model, the naive Bayes classifier. We did use the sigmoid function here, which doesn't quite make sense because the sigmoid function is used for 2-class logistic regression whereas softmax (we'll try this next) is used for multiclass logistic regression."
      ]
    },
    {
      "cell_type": "markdown",
      "metadata": {
        "id": "0kO_hlt2jNHu",
        "colab_type": "text"
      },
      "source": [
        "Now we can split the dataset into training and testing set and test our Keras NN model!"
      ]
    },
    {
      "cell_type": "code",
      "metadata": {
        "id": "UFQfdR0Ym8jV",
        "colab_type": "code",
        "colab": {}
      },
      "source": [
        "X_train, X_test, y_train, y_test = ms.train_test_split(td_nn, condensed_y, test_size=0.2)"
      ],
      "execution_count": 0,
      "outputs": []
    },
    {
      "cell_type": "code",
      "metadata": {
        "id": "4EwXDw6zm5YZ",
        "colab_type": "code",
        "outputId": "0e02377c-b2ed-4a80-c6ca-8431a2481e2e",
        "colab": {
          "base_uri": "https://localhost:8080/",
          "height": 227
        }
      },
      "source": [
        "from sklearn.preprocessing import OneHotEncoder\n",
        "ohe = OneHotEncoder()\n",
        "y_reshape = ohe.fit_transform(y_train.reshape(-1,1)).toarray()\n",
        "y_reshape"
      ],
      "execution_count": 0,
      "outputs": [
        {
          "output_type": "stream",
          "text": [
            "/usr/local/lib/python3.6/dist-packages/sklearn/preprocessing/_encoders.py:415: FutureWarning: The handling of integer data will change in version 0.22. Currently, the categories are determined based on the range [0, max(values)], while in the future they will be determined based on the unique values.\n",
            "If you want the future behaviour and silence this warning, you can specify \"categories='auto'\".\n",
            "In case you used a LabelEncoder before this OneHotEncoder to convert the categories to integers, then you can now use the OneHotEncoder directly.\n",
            "  warnings.warn(msg, FutureWarning)\n"
          ],
          "name": "stderr"
        },
        {
          "output_type": "execute_result",
          "data": {
            "text/plain": [
              "array([[0., 0., 0., 0., 1.],\n",
              "       [0., 1., 0., 0., 0.],\n",
              "       [1., 0., 0., 0., 0.],\n",
              "       ...,\n",
              "       [0., 0., 1., 0., 0.],\n",
              "       [1., 0., 0., 0., 0.],\n",
              "       [0., 1., 0., 0., 0.]])"
            ]
          },
          "metadata": {
            "tags": []
          },
          "execution_count": 97
        }
      ]
    },
    {
      "cell_type": "code",
      "metadata": {
        "id": "HI6GMYL1jPHR",
        "colab_type": "code",
        "outputId": "72ded99f-ee8f-410b-d7cc-5f6e38867630",
        "colab": {
          "base_uri": "https://localhost:8080/",
          "height": 1000
        }
      },
      "source": [
        "X = td_nn\n",
        "y = np.asarray(condense_y(y))\n",
        "\n",
        "# define the keras model\n",
        "model2 = Sequential()\n",
        "model2.add(Dense(100, activation='relu'))\n",
        "model2.add(Dense(50, activation='relu'))\n",
        "model2.add(Dense(5, activation='softmax'))\n",
        "# compile the keras model\n",
        "model2.compile(loss='binary_crossentropy', optimizer='adam', metrics=['accuracy'])\n",
        "# fit the keras model on the dataset\n",
        "model2.fit(X_train, y_reshape, epochs=30, batch_size=10)\n",
        "\n",
        "predictions = model2.predict_classes(X_test)\n",
        "pred = predictions[:] + 1\n",
        "print(pred)"
      ],
      "execution_count": 0,
      "outputs": [
        {
          "output_type": "stream",
          "text": [
            "Epoch 1/30\n",
            "4000/4000 [==============================] - 14s 4ms/step - loss: 0.3109 - acc: 0.8746\n",
            "Epoch 2/30\n",
            "4000/4000 [==============================] - 11s 3ms/step - loss: 0.0748 - acc: 0.9740\n",
            "Epoch 3/30\n",
            "4000/4000 [==============================] - 12s 3ms/step - loss: 0.0168 - acc: 0.9959\n",
            "Epoch 4/30\n",
            "4000/4000 [==============================] - 12s 3ms/step - loss: 0.0039 - acc: 0.9995\n",
            "Epoch 5/30\n",
            "4000/4000 [==============================] - 12s 3ms/step - loss: 0.0013 - acc: 1.0000\n",
            "Epoch 6/30\n",
            "4000/4000 [==============================] - 12s 3ms/step - loss: 6.6439e-04 - acc: 1.0000\n",
            "Epoch 7/30\n",
            "4000/4000 [==============================] - 13s 3ms/step - loss: 4.2375e-04 - acc: 1.0000\n",
            "Epoch 8/30\n",
            "4000/4000 [==============================] - 12s 3ms/step - loss: 2.8948e-04 - acc: 1.0000\n",
            "Epoch 9/30\n",
            "4000/4000 [==============================] - 13s 3ms/step - loss: 2.0335e-04 - acc: 1.0000\n",
            "Epoch 10/30\n",
            "4000/4000 [==============================] - 15s 4ms/step - loss: 1.4752e-04 - acc: 1.0000\n",
            "Epoch 11/30\n",
            "4000/4000 [==============================] - 13s 3ms/step - loss: 1.0746e-04 - acc: 1.0000\n",
            "Epoch 12/30\n",
            "4000/4000 [==============================] - 12s 3ms/step - loss: 7.9523e-05 - acc: 1.0000\n",
            "Epoch 13/30\n",
            "4000/4000 [==============================] - 11s 3ms/step - loss: 5.9579e-05 - acc: 1.0000\n",
            "Epoch 14/30\n",
            "4000/4000 [==============================] - 13s 3ms/step - loss: 4.5034e-05 - acc: 1.0000\n",
            "Epoch 15/30\n",
            "4000/4000 [==============================] - 13s 3ms/step - loss: 3.4315e-05 - acc: 1.0000\n",
            "Epoch 16/30\n",
            "4000/4000 [==============================] - 13s 3ms/step - loss: 2.6354e-05 - acc: 1.0000\n",
            "Epoch 17/30\n",
            "4000/4000 [==============================] - 12s 3ms/step - loss: 2.0330e-05 - acc: 1.0000\n",
            "Epoch 18/30\n",
            "4000/4000 [==============================] - 14s 4ms/step - loss: 1.5442e-05 - acc: 1.0000\n",
            "Epoch 19/30\n",
            "4000/4000 [==============================] - 14s 4ms/step - loss: 1.1642e-05 - acc: 1.0000\n",
            "Epoch 20/30\n",
            "4000/4000 [==============================] - 14s 4ms/step - loss: 8.7625e-06 - acc: 1.0000\n",
            "Epoch 21/30\n",
            "4000/4000 [==============================] - 14s 4ms/step - loss: 6.6226e-06 - acc: 1.0000\n",
            "Epoch 22/30\n",
            "4000/4000 [==============================] - 14s 3ms/step - loss: 5.0659e-06 - acc: 1.0000\n",
            "Epoch 23/30\n",
            "4000/4000 [==============================] - 15s 4ms/step - loss: 3.9163e-06 - acc: 1.0000\n",
            "Epoch 24/30\n",
            "4000/4000 [==============================] - 15s 4ms/step - loss: 3.0592e-06 - acc: 1.0000\n",
            "Epoch 25/30\n",
            "4000/4000 [==============================] - 16s 4ms/step - loss: 2.4089e-06 - acc: 1.0000\n",
            "Epoch 26/30\n",
            "4000/4000 [==============================] - 16s 4ms/step - loss: 1.9176e-06 - acc: 1.0000\n",
            "Epoch 27/30\n",
            "4000/4000 [==============================] - 15s 4ms/step - loss: 1.5324e-06 - acc: 1.0000\n",
            "Epoch 28/30\n",
            "4000/4000 [==============================] - 15s 4ms/step - loss: 1.2366e-06 - acc: 1.0000\n",
            "Epoch 29/30\n",
            "4000/4000 [==============================] - 16s 4ms/step - loss: 1.0019e-06 - acc: 1.0000\n",
            "Epoch 30/30\n",
            "4000/4000 [==============================] - 13s 3ms/step - loss: 8.1818e-07 - acc: 1.0000\n",
            "[5 5 4 3 4 3 2 5 3 5 5 5 2 5 3 5 1 3 1 4 3 5 3 4 2 3 5 5 5 3 2 4 2 2 1 2 5\n",
            " 4 2 1 1 1 4 1 2 5 3 4 5 2 5 5 2 5 1 2 1 5 1 3 5 1 4 4 5 3 3 2 5 1 1 1 3 3\n",
            " 5 2 4 2 4 5 2 4 2 1 5 4 4 4 4 2 4 4 4 2 2 5 4 1 2 2 4 2 3 1 1 4 5 4 3 1 3\n",
            " 3 3 2 3 3 2 2 4 4 5 1 1 5 5 1 3 3 4 2 4 4 2 5 4 5 2 3 5 2 5 4 3 1 1 1 2 1\n",
            " 1 3 1 1 4 4 2 2 5 5 2 3 4 2 2 4 2 4 5 2 1 3 3 3 5 5 2 1 3 3 5 4 2 1 4 2 2\n",
            " 1 4 1 2 3 1 5 3 3 1 1 1 5 1 5 2 5 4 3 3 1 5 4 3 5 3 2 1 2 2 3 3 5 5 3 1 1\n",
            " 4 4 3 4 4 4 4 1 5 2 3 5 2 3 3 3 2 5 1 3 4 3 3 2 4 3 3 4 2 4 2 1 4 5 2 3 2\n",
            " 3 5 3 1 1 3 3 5 1 3 2 3 1 2 3 1 2 3 1 5 2 1 3 3 2 3 4 4 4 4 5 5 4 2 3 2 4\n",
            " 1 4 1 5 5 5 4 5 1 5 2 5 1 2 1 3 5 2 5 1 2 2 5 1 3 2 5 3 5 4 3 2 4 4 5 1 5\n",
            " 5 3 3 1 3 4 2 2 5 2 4 2 1 4 2 4 2 5 2 3 1 3 1 1 5 3 4 2 5 2 1 3 5 5 2 2 3\n",
            " 4 2 2 2 3 4 4 4 4 5 4 5 5 5 4 3 2 5 2 5 5 2 4 2 3 5 2 4 1 4 3 1 3 4 1 3 5\n",
            " 3 5 2 4 2 1 1 3 3 2 4 2 4 2 3 4 4 5 3 4 1 4 4 2 5 2 2 5 4 5 3 3 5 4 5 4 2\n",
            " 4 3 2 2 4 4 3 5 5 1 4 4 1 4 5 5 1 1 4 2 4 2 3 3 3 1 5 4 1 5 5 1 2 2 2 3 3\n",
            " 1 1 3 5 1 2 4 1 1 2 4 3 2 2 3 5 4 3 2 1 5 1 3 3 1 3 3 5 1 1 4 4 1 2 2 5 1\n",
            " 1 1 3 2 5 1 4 2 2 1 5 2 2 1 3 5 3 4 3 5 1 4 4 1 4 1 1 5 4 4 5 4 2 1 2 2 4\n",
            " 1 2 1 2 1 5 4 5 3 3 3 4 5 4 4 3 5 5 3 4 3 4 2 3 1 1 2 5 2 2 3 1 5 4 5 1 4\n",
            " 2 4 1 4 5 2 1 2 5 1 1 2 1 1 3 3 2 2 2 4 4 4 2 5 5 1 4 3 1 5 2 5 1 3 1 2 2\n",
            " 1 2 3 5 5 4 4 3 5 5 4 1 2 2 4 3 5 3 1 2 4 5 3 2 5 3 1 5 5 5 5 1 5 3 3 4 1\n",
            " 1 1 1 1 3 5 5 5 4 5 2 4 4 2 1 1 3 3 4 3 5 3 5 5 4 1 2 2 5 5 3 1 4 5 1 1 2\n",
            " 1 3 1 2 3 1 2 5 1 3 3 5 1 4 5 5 2 3 5 5 1 1 3 4 3 1 3 1 4 5 4 2 3 3 1 1 4\n",
            " 4 5 1 5 4 2 2 3 2 2 5 2 4 1 3 2 5 3 5 4 4 4 3 4 4 3 5 1 5 2 5 4 5 3 5 4 5\n",
            " 4 5 3 2 5 1 1 5 4 2 5 3 5 1 2 3 2 3 1 1 3 4 1 3 4 4 1 4 2 3 3 5 4 2 3 5 4\n",
            " 3 4 1 5 4 4 3 4 4 3 5 2 5 2 2 2 4 3 2 3 3 3 5 1 4 2 4 3 3 2 4 4 5 5 3 3 4\n",
            " 5 5 1 4 3 3 2 5 3 1 4 2 5 2 3 3 1 4 5 2 5 5 3 3 5 1 5 1 5 5 5 1 1 1 3 1 4\n",
            " 2 5 2 2 3 4 1 4 2 4 2 1 2 3 5 1 2 1 3 5 2 1 4 5 3 3 3 1 2 1 4 2 2 5 4 5 4\n",
            " 1 4 1 5 5 1 2 2 4 2 4 3 3 5 3 2 2 4 4 4 3 5 2 1 3 4 5 4 5 1 2 4 4 3 5 5 1\n",
            " 5 4 5 1 2 5 2 2 4 4 5 2 5 3 5 4 3 1 4 5 4 4 2 1 1 4 5 1 2 3 1 4 5 5 3 1 5\n",
            " 2]\n"
          ],
          "name": "stdout"
        }
      ]
    },
    {
      "cell_type": "code",
      "metadata": {
        "id": "ZyGAOtKJmLk7",
        "colab_type": "code",
        "outputId": "abd66671-3582-4197-f5a6-1f2e64f3b6a3",
        "colab": {
          "base_uri": "https://localhost:8080/",
          "height": 35
        }
      },
      "source": [
        "from sklearn.metrics import accuracy_score\n",
        "accuracy_score(pred, y_test)"
      ],
      "execution_count": 0,
      "outputs": [
        {
          "output_type": "execute_result",
          "data": {
            "text/plain": [
              "0.78"
            ]
          },
          "metadata": {
            "tags": []
          },
          "execution_count": 99
        }
      ]
    },
    {
      "cell_type": "markdown",
      "metadata": {
        "id": "YmXdNQscrhTT",
        "colab_type": "text"
      },
      "source": [
        "There we have it, a 78.2% accuracy in classifying our dataset using a deep learning neural network with Keras."
      ]
    },
    {
      "cell_type": "markdown",
      "metadata": {
        "id": "aGC57Mm0TKSE",
        "colab_type": "text"
      },
      "source": [
        "To wrap up, text classification is a widely applied problem in fields such as information retrieval, filtering, sentiment analysis, recommender systems, document summarization, and much more. Though the vast majority of the text classification tutorials I found mostly had to do with binary classification (such as email SPAM filtering or sentiment analysis), we delved deeper into a more real-world problem of classifying our dataset into 5 pre-defined classes (star ratings). \n",
        "\n",
        "What is the most *accurate* system of predicting the number of stars? \n",
        "\n",
        "Given our performances of the different models, we can conclude that the random forest model, logistic regression with boosting and the multilevel perceptron neural networks perform at around the same level in terms of accuracy in the task of text classification (with this dataset in particular), with MLP NN performing the best. Given how long boosting took to classify, I would conclude that the random forest model is overall the best suited for this task and dataset. \n",
        "\n",
        "With more time to just let GridSearchCV go through and tune more hyperparameters, we could easily raise the accuracies of the models. \n",
        "\n",
        "\n",
        "So, what is the *best* text classification technique?\n",
        "\n",
        "This question cannot be answered given just the observations from my analysis because I have presented accuracy results that are specific to the given dataset, and thus these results are not reproducible given other datasets. Further, the smaller variations can be due to pure chance. "
      ]
    }
  ]
}